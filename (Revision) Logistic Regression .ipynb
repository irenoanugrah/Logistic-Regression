{
 "cells": [
  {
   "cell_type": "markdown",
   "id": "ff83d0cd",
   "metadata": {},
   "source": [
    "## Import Package and Data"
   ]
  },
  {
   "cell_type": "code",
   "execution_count": 114,
   "id": "42f721ca",
   "metadata": {},
   "outputs": [],
   "source": [
    "import pandas as pd\n",
    "import numpy as np\n",
    "import matplotlib.pyplot as plt\n",
    "import seaborn as sns\n",
    "import statsmodels.api as sm\n",
    "import missingno as msno \n",
    "%matplotlib inline"
   ]
  },
  {
   "cell_type": "code",
   "execution_count": 115,
   "id": "88793c39",
   "metadata": {},
   "outputs": [],
   "source": [
    "data = 'E:/GSB Analisis Data/Klien Andy/Train test.csv'\n",
    "df = pd.read_csv(data,index_col = 'bcn_num')"
   ]
  },
  {
   "cell_type": "code",
   "execution_count": 116,
   "id": "d631b570",
   "metadata": {},
   "outputs": [
    {
     "data": {
      "text/html": [
       "<div>\n",
       "<style scoped>\n",
       "    .dataframe tbody tr th:only-of-type {\n",
       "        vertical-align: middle;\n",
       "    }\n",
       "\n",
       "    .dataframe tbody tr th {\n",
       "        vertical-align: top;\n",
       "    }\n",
       "\n",
       "    .dataframe thead th {\n",
       "        text-align: right;\n",
       "    }\n",
       "</style>\n",
       "<table border=\"1\" class=\"dataframe\">\n",
       "  <thead>\n",
       "    <tr style=\"text-align: right;\">\n",
       "      <th></th>\n",
       "      <th>test_outcome</th>\n",
       "      <th>CountCases</th>\n",
       "      <th>CountWIFICases</th>\n",
       "      <th>obs_count</th>\n",
       "      <th>upgrade_count</th>\n",
       "      <th>max_uptime_days</th>\n",
       "      <th>min_uptime_hr</th>\n",
       "      <th>max_uptime_hr</th>\n",
       "      <th>wandown_cnt</th>\n",
       "      <th>lanwpktdrop</th>\n",
       "      <th>lanwpktdrop_5g</th>\n",
       "      <th>lanpwr_below100</th>\n",
       "      <th>avg_lanwpkterred</th>\n",
       "      <th>avg_lanwpkterred_5g</th>\n",
       "      <th>minrssi</th>\n",
       "      <th>maxrssi</th>\n",
       "      <th>max_assoc_dev</th>\n",
       "      <th>channel_change</th>\n",
       "    </tr>\n",
       "    <tr>\n",
       "      <th>bcn_num</th>\n",
       "      <th></th>\n",
       "      <th></th>\n",
       "      <th></th>\n",
       "      <th></th>\n",
       "      <th></th>\n",
       "      <th></th>\n",
       "      <th></th>\n",
       "      <th></th>\n",
       "      <th></th>\n",
       "      <th></th>\n",
       "      <th></th>\n",
       "      <th></th>\n",
       "      <th></th>\n",
       "      <th></th>\n",
       "      <th></th>\n",
       "      <th></th>\n",
       "      <th></th>\n",
       "      <th></th>\n",
       "    </tr>\n",
       "  </thead>\n",
       "  <tbody>\n",
       "    <tr>\n",
       "      <th>NL20H682</th>\n",
       "      <td>0</td>\n",
       "      <td>2</td>\n",
       "      <td>0</td>\n",
       "      <td>43.0</td>\n",
       "      <td>2.0</td>\n",
       "      <td>30.0</td>\n",
       "      <td>5.0</td>\n",
       "      <td>723.0</td>\n",
       "      <td>0.0</td>\n",
       "      <td>0.0</td>\n",
       "      <td>618831.0</td>\n",
       "      <td>0.0</td>\n",
       "      <td>0.0</td>\n",
       "      <td>2623.0</td>\n",
       "      <td>54.0</td>\n",
       "      <td>87.0</td>\n",
       "      <td>4.0</td>\n",
       "      <td>2.0</td>\n",
       "    </tr>\n",
       "    <tr>\n",
       "      <th>NM20BGH8</th>\n",
       "      <td>0</td>\n",
       "      <td>3</td>\n",
       "      <td>0</td>\n",
       "      <td>47.0</td>\n",
       "      <td>1.0</td>\n",
       "      <td>34.0</td>\n",
       "      <td>2.0</td>\n",
       "      <td>820.0</td>\n",
       "      <td>0.0</td>\n",
       "      <td>0.0</td>\n",
       "      <td>3592059.0</td>\n",
       "      <td>0.0</td>\n",
       "      <td>0.0</td>\n",
       "      <td>266.0</td>\n",
       "      <td>57.0</td>\n",
       "      <td>88.0</td>\n",
       "      <td>3.0</td>\n",
       "      <td>3.0</td>\n",
       "    </tr>\n",
       "    <tr>\n",
       "      <th>NS206FC5</th>\n",
       "      <td>0</td>\n",
       "      <td>0</td>\n",
       "      <td>0</td>\n",
       "      <td>4.0</td>\n",
       "      <td>1.0</td>\n",
       "      <td>4.0</td>\n",
       "      <td>31.0</td>\n",
       "      <td>103.0</td>\n",
       "      <td>0.0</td>\n",
       "      <td>0.0</td>\n",
       "      <td>0.0</td>\n",
       "      <td>0.0</td>\n",
       "      <td>0.0</td>\n",
       "      <td>519.0</td>\n",
       "      <td>NaN</td>\n",
       "      <td>NaN</td>\n",
       "      <td>0.0</td>\n",
       "      <td>1.0</td>\n",
       "    </tr>\n",
       "    <tr>\n",
       "      <th>NM20HLAB</th>\n",
       "      <td>0</td>\n",
       "      <td>9</td>\n",
       "      <td>1</td>\n",
       "      <td>51.0</td>\n",
       "      <td>2.0</td>\n",
       "      <td>73.0</td>\n",
       "      <td>6.0</td>\n",
       "      <td>1760.0</td>\n",
       "      <td>0.0</td>\n",
       "      <td>0.0</td>\n",
       "      <td>609518.0</td>\n",
       "      <td>0.0</td>\n",
       "      <td>0.0</td>\n",
       "      <td>385.0</td>\n",
       "      <td>NaN</td>\n",
       "      <td>NaN</td>\n",
       "      <td>4.0</td>\n",
       "      <td>2.0</td>\n",
       "    </tr>\n",
       "    <tr>\n",
       "      <th>NN21CJHA</th>\n",
       "      <td>0</td>\n",
       "      <td>0</td>\n",
       "      <td>0</td>\n",
       "      <td>45.0</td>\n",
       "      <td>2.0</td>\n",
       "      <td>61.0</td>\n",
       "      <td>15.0</td>\n",
       "      <td>1484.0</td>\n",
       "      <td>0.0</td>\n",
       "      <td>32017.0</td>\n",
       "      <td>181616.0</td>\n",
       "      <td>0.0</td>\n",
       "      <td>844.0</td>\n",
       "      <td>4436.0</td>\n",
       "      <td>45.0</td>\n",
       "      <td>68.0</td>\n",
       "      <td>3.0</td>\n",
       "      <td>2.0</td>\n",
       "    </tr>\n",
       "  </tbody>\n",
       "</table>\n",
       "</div>"
      ],
      "text/plain": [
       "          test_outcome  CountCases  CountWIFICases  obs_count  upgrade_count  \\\n",
       "bcn_num                                                                        \n",
       "NL20H682             0           2               0       43.0            2.0   \n",
       "NM20BGH8             0           3               0       47.0            1.0   \n",
       "NS206FC5             0           0               0        4.0            1.0   \n",
       "NM20HLAB             0           9               1       51.0            2.0   \n",
       "NN21CJHA             0           0               0       45.0            2.0   \n",
       "\n",
       "          max_uptime_days  min_uptime_hr  max_uptime_hr  wandown_cnt  \\\n",
       "bcn_num                                                                \n",
       "NL20H682             30.0            5.0          723.0          0.0   \n",
       "NM20BGH8             34.0            2.0          820.0          0.0   \n",
       "NS206FC5              4.0           31.0          103.0          0.0   \n",
       "NM20HLAB             73.0            6.0         1760.0          0.0   \n",
       "NN21CJHA             61.0           15.0         1484.0          0.0   \n",
       "\n",
       "          lanwpktdrop  lanwpktdrop_5g  lanpwr_below100  avg_lanwpkterred  \\\n",
       "bcn_num                                                                    \n",
       "NL20H682          0.0        618831.0              0.0               0.0   \n",
       "NM20BGH8          0.0       3592059.0              0.0               0.0   \n",
       "NS206FC5          0.0             0.0              0.0               0.0   \n",
       "NM20HLAB          0.0        609518.0              0.0               0.0   \n",
       "NN21CJHA      32017.0        181616.0              0.0             844.0   \n",
       "\n",
       "          avg_lanwpkterred_5g  minrssi  maxrssi  max_assoc_dev  channel_change  \n",
       "bcn_num                                                                         \n",
       "NL20H682               2623.0     54.0     87.0            4.0             2.0  \n",
       "NM20BGH8                266.0     57.0     88.0            3.0             3.0  \n",
       "NS206FC5                519.0      NaN      NaN            0.0             1.0  \n",
       "NM20HLAB                385.0      NaN      NaN            4.0             2.0  \n",
       "NN21CJHA               4436.0     45.0     68.0            3.0             2.0  "
      ]
     },
     "execution_count": 116,
     "metadata": {},
     "output_type": "execute_result"
    }
   ],
   "source": [
    "# preview the dataset\n",
    "df.head()"
   ]
  },
  {
   "cell_type": "code",
   "execution_count": 117,
   "id": "a69314a4",
   "metadata": {},
   "outputs": [
    {
     "data": {
      "text/plain": [
       "(460696, 18)"
      ]
     },
     "execution_count": 117,
     "metadata": {},
     "output_type": "execute_result"
    }
   ],
   "source": [
    "# view dimensions of dataset\n",
    "df.shape"
   ]
  },
  {
   "cell_type": "markdown",
   "id": "51992d4a",
   "metadata": {},
   "source": [
    " We can see that there are 460696 instances and 18 variables in the dataset"
   ]
  },
  {
   "cell_type": "code",
   "execution_count": 118,
   "id": "5fb456af",
   "metadata": {},
   "outputs": [
    {
     "data": {
      "text/plain": [
       "Index(['test_outcome', 'CountCases', 'CountWIFICases', 'obs_count',\n",
       "       'upgrade_count', 'max_uptime_days', 'min_uptime_hr', 'max_uptime_hr',\n",
       "       'wandown_cnt', 'lanwpktdrop', 'lanwpktdrop_5g', 'lanpwr_below100',\n",
       "       'avg_lanwpkterred', 'avg_lanwpkterred_5g', 'minrssi', 'maxrssi',\n",
       "       'max_assoc_dev', 'channel_change'],\n",
       "      dtype='object')"
      ]
     },
     "execution_count": 118,
     "metadata": {},
     "output_type": "execute_result"
    }
   ],
   "source": [
    "col_names = df.columns\n",
    "col_names"
   ]
  },
  {
   "cell_type": "code",
   "execution_count": 119,
   "id": "0d1e6676",
   "metadata": {},
   "outputs": [
    {
     "name": "stdout",
     "output_type": "stream",
     "text": [
      "<class 'pandas.core.frame.DataFrame'>\n",
      "Index: 460696 entries, NL20H682 to NL216RVS\n",
      "Data columns (total 18 columns):\n",
      " #   Column               Non-Null Count   Dtype  \n",
      "---  ------               --------------   -----  \n",
      " 0   test_outcome         460696 non-null  int64  \n",
      " 1   CountCases           460696 non-null  int64  \n",
      " 2   CountWIFICases       460696 non-null  int64  \n",
      " 3   obs_count            396706 non-null  float64\n",
      " 4   upgrade_count        396706 non-null  float64\n",
      " 5   max_uptime_days      375771 non-null  float64\n",
      " 6   min_uptime_hr        375771 non-null  float64\n",
      " 7   max_uptime_hr        375771 non-null  float64\n",
      " 8   wandown_cnt          396706 non-null  float64\n",
      " 9   lanwpktdrop          375771 non-null  float64\n",
      " 10  lanwpktdrop_5g       375771 non-null  float64\n",
      " 11  lanpwr_below100      396706 non-null  float64\n",
      " 12  avg_lanwpkterred     375771 non-null  float64\n",
      " 13  avg_lanwpkterred_5g  375771 non-null  float64\n",
      " 14  minrssi              333243 non-null  float64\n",
      " 15  maxrssi              333243 non-null  float64\n",
      " 16  max_assoc_dev        375771 non-null  float64\n",
      " 17  channel_change       396706 non-null  float64\n",
      "dtypes: float64(15), int64(3)\n",
      "memory usage: 66.8+ MB\n"
     ]
    }
   ],
   "source": [
    "# view summary of dataset\n",
    "\n",
    "df.info()"
   ]
  },
  {
   "cell_type": "markdown",
   "id": "d67791a2",
   "metadata": {},
   "source": [
    "## Identify Missing Value"
   ]
  },
  {
   "cell_type": "code",
   "execution_count": 120,
   "id": "b4a922d1",
   "metadata": {},
   "outputs": [
    {
     "data": {
      "text/plain": [
       "test_outcome                0\n",
       "CountCases                  0\n",
       "CountWIFICases              0\n",
       "obs_count               63990\n",
       "upgrade_count           63990\n",
       "max_uptime_days         84925\n",
       "min_uptime_hr           84925\n",
       "max_uptime_hr           84925\n",
       "wandown_cnt             63990\n",
       "lanwpktdrop             84925\n",
       "lanwpktdrop_5g          84925\n",
       "lanpwr_below100         63990\n",
       "avg_lanwpkterred        84925\n",
       "avg_lanwpkterred_5g     84925\n",
       "minrssi                127453\n",
       "maxrssi                127453\n",
       "max_assoc_dev           84925\n",
       "channel_change          63990\n",
       "dtype: int64"
      ]
     },
     "execution_count": 120,
     "metadata": {},
     "output_type": "execute_result"
    }
   ],
   "source": [
    "# check missing values in variables\n",
    "\n",
    "df.isnull().sum()"
   ]
  },
  {
   "cell_type": "code",
   "execution_count": 121,
   "id": "6b649f86",
   "metadata": {},
   "outputs": [
    {
     "data": {
      "text/plain": [
       "<AxesSubplot:>"
      ]
     },
     "execution_count": 121,
     "metadata": {},
     "output_type": "execute_result"
    },
    {
     "data": {
      "image/png": "[encoded data removed]",
      "text/plain": [
       "<Figure size 864x432 with 2 Axes>"
      ]
     },
     "metadata": {
      "needs_background": "light"
     },
     "output_type": "display_data"
    }
   ],
   "source": [
    "# visualize missing values in dataset \n",
    "\n",
    "# Visualize missing values as a matrix \n",
    "msno.matrix(df,figsize=(12,6)) \n"
   ]
  },
  {
   "cell_type": "code",
   "execution_count": 122,
   "id": "c6fda1ea",
   "metadata": {},
   "outputs": [
    {
     "data": {
      "text/plain": [
       "<AxesSubplot:>"
      ]
     },
     "execution_count": 122,
     "metadata": {},
     "output_type": "execute_result"
    },
    {
     "data": {
      "image/png": "[encoded data removed]",
      "text/plain": [
       "<Figure size 720x288 with 3 Axes>"
      ]
     },
     "metadata": {
      "needs_background": "light"
     },
     "output_type": "display_data"
    }
   ],
   "source": [
    "# Visualize the number of missing \n",
    "# values as a bar chart \n",
    "msno.bar(df,figsize=(10,4)) "
   ]
  },
  {
   "cell_type": "code",
   "execution_count": 123,
   "id": "d51f8bd2",
   "metadata": {},
   "outputs": [
    {
     "data": {
      "text/plain": [
       "test_outcome            0.000000\n",
       "CountCases              0.000000\n",
       "CountWIFICases          0.000000\n",
       "obs_count              13.889854\n",
       "upgrade_count          13.889854\n",
       "max_uptime_days        18.434065\n",
       "min_uptime_hr          18.434065\n",
       "max_uptime_hr          18.434065\n",
       "wandown_cnt            13.889854\n",
       "lanwpktdrop            18.434065\n",
       "lanwpktdrop_5g         18.434065\n",
       "lanpwr_below100        13.889854\n",
       "avg_lanwpkterred       18.434065\n",
       "avg_lanwpkterred_5g    18.434065\n",
       "minrssi                27.665315\n",
       "maxrssi                27.665315\n",
       "max_assoc_dev          18.434065\n",
       "channel_change         13.889854\n",
       "dtype: float64"
      ]
     },
     "execution_count": 123,
     "metadata": {},
     "output_type": "execute_result"
    }
   ],
   "source": [
    "# find out the percentage of misssing vale in each column\n",
    "Percent_Missing_Value = df.isnull().sum()*100/len(df)\n",
    "Percent_Missing_Value"
   ]
  },
  {
   "cell_type": "markdown",
   "id": "28cb147e",
   "metadata": {},
   "source": [
    "## Missing Value Treatment"
   ]
  },
  {
   "cell_type": "markdown",
   "id": "d4ca7320",
   "metadata": {},
   "source": [
    "#### List wise Deletion of Missing Value"
   ]
  },
  {
   "cell_type": "code",
   "execution_count": 124,
   "id": "9ddf0065",
   "metadata": {},
   "outputs": [],
   "source": [
    "df_listwise = df.dropna()"
   ]
  },
  {
   "cell_type": "markdown",
   "id": "e7530498",
   "metadata": {},
   "source": [
    "#### Pair wise Deletion of Missing Value"
   ]
  },
  {
   "cell_type": "code",
   "execution_count": 125,
   "id": "ab7b1953",
   "metadata": {},
   "outputs": [
    {
     "data": {
      "text/html": [
       "<div>\n",
       "<style scoped>\n",
       "    .dataframe tbody tr th:only-of-type {\n",
       "        vertical-align: middle;\n",
       "    }\n",
       "\n",
       "    .dataframe tbody tr th {\n",
       "        vertical-align: top;\n",
       "    }\n",
       "\n",
       "    .dataframe thead th {\n",
       "        text-align: right;\n",
       "    }\n",
       "</style>\n",
       "<table border=\"1\" class=\"dataframe\">\n",
       "  <thead>\n",
       "    <tr style=\"text-align: right;\">\n",
       "      <th></th>\n",
       "      <th>test_outcome</th>\n",
       "      <th>CountCases</th>\n",
       "      <th>CountWIFICases</th>\n",
       "      <th>obs_count</th>\n",
       "      <th>upgrade_count</th>\n",
       "      <th>max_uptime_days</th>\n",
       "      <th>min_uptime_hr</th>\n",
       "      <th>max_uptime_hr</th>\n",
       "      <th>wandown_cnt</th>\n",
       "      <th>lanwpktdrop</th>\n",
       "      <th>lanwpktdrop_5g</th>\n",
       "      <th>lanpwr_below100</th>\n",
       "      <th>avg_lanwpkterred</th>\n",
       "      <th>avg_lanwpkterred_5g</th>\n",
       "      <th>minrssi</th>\n",
       "      <th>maxrssi</th>\n",
       "      <th>max_assoc_dev</th>\n",
       "      <th>channel_change</th>\n",
       "    </tr>\n",
       "    <tr>\n",
       "      <th>bcn_num</th>\n",
       "      <th></th>\n",
       "      <th></th>\n",
       "      <th></th>\n",
       "      <th></th>\n",
       "      <th></th>\n",
       "      <th></th>\n",
       "      <th></th>\n",
       "      <th></th>\n",
       "      <th></th>\n",
       "      <th></th>\n",
       "      <th></th>\n",
       "      <th></th>\n",
       "      <th></th>\n",
       "      <th></th>\n",
       "      <th></th>\n",
       "      <th></th>\n",
       "      <th></th>\n",
       "      <th></th>\n",
       "    </tr>\n",
       "  </thead>\n",
       "  <tbody>\n",
       "    <tr>\n",
       "      <th>NM20QWAB</th>\n",
       "      <td>0</td>\n",
       "      <td>0</td>\n",
       "      <td>0</td>\n",
       "      <td>NaN</td>\n",
       "      <td>NaN</td>\n",
       "      <td>NaN</td>\n",
       "      <td>NaN</td>\n",
       "      <td>NaN</td>\n",
       "      <td>NaN</td>\n",
       "      <td>NaN</td>\n",
       "      <td>NaN</td>\n",
       "      <td>NaN</td>\n",
       "      <td>NaN</td>\n",
       "      <td>NaN</td>\n",
       "      <td>NaN</td>\n",
       "      <td>NaN</td>\n",
       "      <td>NaN</td>\n",
       "      <td>NaN</td>\n",
       "    </tr>\n",
       "    <tr>\n",
       "      <th>NM20THL6</th>\n",
       "      <td>0</td>\n",
       "      <td>0</td>\n",
       "      <td>0</td>\n",
       "      <td>NaN</td>\n",
       "      <td>NaN</td>\n",
       "      <td>NaN</td>\n",
       "      <td>NaN</td>\n",
       "      <td>NaN</td>\n",
       "      <td>NaN</td>\n",
       "      <td>NaN</td>\n",
       "      <td>NaN</td>\n",
       "      <td>NaN</td>\n",
       "      <td>NaN</td>\n",
       "      <td>NaN</td>\n",
       "      <td>NaN</td>\n",
       "      <td>NaN</td>\n",
       "      <td>NaN</td>\n",
       "      <td>NaN</td>\n",
       "    </tr>\n",
       "    <tr>\n",
       "      <th>NM20SWDF</th>\n",
       "      <td>0</td>\n",
       "      <td>0</td>\n",
       "      <td>0</td>\n",
       "      <td>NaN</td>\n",
       "      <td>NaN</td>\n",
       "      <td>NaN</td>\n",
       "      <td>NaN</td>\n",
       "      <td>NaN</td>\n",
       "      <td>NaN</td>\n",
       "      <td>NaN</td>\n",
       "      <td>NaN</td>\n",
       "      <td>NaN</td>\n",
       "      <td>NaN</td>\n",
       "      <td>NaN</td>\n",
       "      <td>NaN</td>\n",
       "      <td>NaN</td>\n",
       "      <td>NaN</td>\n",
       "      <td>NaN</td>\n",
       "    </tr>\n",
       "    <tr>\n",
       "      <th>NL219S20</th>\n",
       "      <td>0</td>\n",
       "      <td>0</td>\n",
       "      <td>0</td>\n",
       "      <td>NaN</td>\n",
       "      <td>NaN</td>\n",
       "      <td>NaN</td>\n",
       "      <td>NaN</td>\n",
       "      <td>NaN</td>\n",
       "      <td>NaN</td>\n",
       "      <td>NaN</td>\n",
       "      <td>NaN</td>\n",
       "      <td>NaN</td>\n",
       "      <td>NaN</td>\n",
       "      <td>NaN</td>\n",
       "      <td>NaN</td>\n",
       "      <td>NaN</td>\n",
       "      <td>NaN</td>\n",
       "      <td>NaN</td>\n",
       "    </tr>\n",
       "    <tr>\n",
       "      <th>NM20TXNG</th>\n",
       "      <td>0</td>\n",
       "      <td>0</td>\n",
       "      <td>0</td>\n",
       "      <td>NaN</td>\n",
       "      <td>NaN</td>\n",
       "      <td>NaN</td>\n",
       "      <td>NaN</td>\n",
       "      <td>NaN</td>\n",
       "      <td>NaN</td>\n",
       "      <td>NaN</td>\n",
       "      <td>NaN</td>\n",
       "      <td>NaN</td>\n",
       "      <td>NaN</td>\n",
       "      <td>NaN</td>\n",
       "      <td>NaN</td>\n",
       "      <td>NaN</td>\n",
       "      <td>NaN</td>\n",
       "      <td>NaN</td>\n",
       "    </tr>\n",
       "    <tr>\n",
       "      <th>...</th>\n",
       "      <td>...</td>\n",
       "      <td>...</td>\n",
       "      <td>...</td>\n",
       "      <td>...</td>\n",
       "      <td>...</td>\n",
       "      <td>...</td>\n",
       "      <td>...</td>\n",
       "      <td>...</td>\n",
       "      <td>...</td>\n",
       "      <td>...</td>\n",
       "      <td>...</td>\n",
       "      <td>...</td>\n",
       "      <td>...</td>\n",
       "      <td>...</td>\n",
       "      <td>...</td>\n",
       "      <td>...</td>\n",
       "      <td>...</td>\n",
       "      <td>...</td>\n",
       "    </tr>\n",
       "    <tr>\n",
       "      <th>NM20B97G</th>\n",
       "      <td>0</td>\n",
       "      <td>0</td>\n",
       "      <td>0</td>\n",
       "      <td>NaN</td>\n",
       "      <td>NaN</td>\n",
       "      <td>NaN</td>\n",
       "      <td>NaN</td>\n",
       "      <td>NaN</td>\n",
       "      <td>NaN</td>\n",
       "      <td>NaN</td>\n",
       "      <td>NaN</td>\n",
       "      <td>NaN</td>\n",
       "      <td>NaN</td>\n",
       "      <td>NaN</td>\n",
       "      <td>NaN</td>\n",
       "      <td>NaN</td>\n",
       "      <td>NaN</td>\n",
       "      <td>NaN</td>\n",
       "    </tr>\n",
       "    <tr>\n",
       "      <th>NS1XEPNL</th>\n",
       "      <td>0</td>\n",
       "      <td>0</td>\n",
       "      <td>0</td>\n",
       "      <td>NaN</td>\n",
       "      <td>NaN</td>\n",
       "      <td>NaN</td>\n",
       "      <td>NaN</td>\n",
       "      <td>NaN</td>\n",
       "      <td>NaN</td>\n",
       "      <td>NaN</td>\n",
       "      <td>NaN</td>\n",
       "      <td>NaN</td>\n",
       "      <td>NaN</td>\n",
       "      <td>NaN</td>\n",
       "      <td>NaN</td>\n",
       "      <td>NaN</td>\n",
       "      <td>NaN</td>\n",
       "      <td>NaN</td>\n",
       "    </tr>\n",
       "    <tr>\n",
       "      <th>NN213Z85</th>\n",
       "      <td>0</td>\n",
       "      <td>0</td>\n",
       "      <td>0</td>\n",
       "      <td>NaN</td>\n",
       "      <td>NaN</td>\n",
       "      <td>NaN</td>\n",
       "      <td>NaN</td>\n",
       "      <td>NaN</td>\n",
       "      <td>NaN</td>\n",
       "      <td>NaN</td>\n",
       "      <td>NaN</td>\n",
       "      <td>NaN</td>\n",
       "      <td>NaN</td>\n",
       "      <td>NaN</td>\n",
       "      <td>NaN</td>\n",
       "      <td>NaN</td>\n",
       "      <td>NaN</td>\n",
       "      <td>NaN</td>\n",
       "    </tr>\n",
       "    <tr>\n",
       "      <th>NS20YT7T</th>\n",
       "      <td>0</td>\n",
       "      <td>0</td>\n",
       "      <td>0</td>\n",
       "      <td>NaN</td>\n",
       "      <td>NaN</td>\n",
       "      <td>NaN</td>\n",
       "      <td>NaN</td>\n",
       "      <td>NaN</td>\n",
       "      <td>NaN</td>\n",
       "      <td>NaN</td>\n",
       "      <td>NaN</td>\n",
       "      <td>NaN</td>\n",
       "      <td>NaN</td>\n",
       "      <td>NaN</td>\n",
       "      <td>NaN</td>\n",
       "      <td>NaN</td>\n",
       "      <td>NaN</td>\n",
       "      <td>NaN</td>\n",
       "    </tr>\n",
       "    <tr>\n",
       "      <th>NL216RVS</th>\n",
       "      <td>0</td>\n",
       "      <td>0</td>\n",
       "      <td>0</td>\n",
       "      <td>NaN</td>\n",
       "      <td>NaN</td>\n",
       "      <td>NaN</td>\n",
       "      <td>NaN</td>\n",
       "      <td>NaN</td>\n",
       "      <td>NaN</td>\n",
       "      <td>NaN</td>\n",
       "      <td>NaN</td>\n",
       "      <td>NaN</td>\n",
       "      <td>NaN</td>\n",
       "      <td>NaN</td>\n",
       "      <td>NaN</td>\n",
       "      <td>NaN</td>\n",
       "      <td>NaN</td>\n",
       "      <td>NaN</td>\n",
       "    </tr>\n",
       "  </tbody>\n",
       "</table>\n",
       "<p>63990 rows × 18 columns</p>\n",
       "</div>"
      ],
      "text/plain": [
       "          test_outcome  CountCases  CountWIFICases  obs_count  upgrade_count  \\\n",
       "bcn_num                                                                        \n",
       "NM20QWAB             0           0               0        NaN            NaN   \n",
       "NM20THL6             0           0               0        NaN            NaN   \n",
       "NM20SWDF             0           0               0        NaN            NaN   \n",
       "NL219S20             0           0               0        NaN            NaN   \n",
       "NM20TXNG             0           0               0        NaN            NaN   \n",
       "...                ...         ...             ...        ...            ...   \n",
       "NM20B97G             0           0               0        NaN            NaN   \n",
       "NS1XEPNL             0           0               0        NaN            NaN   \n",
       "NN213Z85             0           0               0        NaN            NaN   \n",
       "NS20YT7T             0           0               0        NaN            NaN   \n",
       "NL216RVS             0           0               0        NaN            NaN   \n",
       "\n",
       "          max_uptime_days  min_uptime_hr  max_uptime_hr  wandown_cnt  \\\n",
       "bcn_num                                                                \n",
       "NM20QWAB              NaN            NaN            NaN          NaN   \n",
       "NM20THL6              NaN            NaN            NaN          NaN   \n",
       "NM20SWDF              NaN            NaN            NaN          NaN   \n",
       "NL219S20              NaN            NaN            NaN          NaN   \n",
       "NM20TXNG              NaN            NaN            NaN          NaN   \n",
       "...                   ...            ...            ...          ...   \n",
       "NM20B97G              NaN            NaN            NaN          NaN   \n",
       "NS1XEPNL              NaN            NaN            NaN          NaN   \n",
       "NN213Z85              NaN            NaN            NaN          NaN   \n",
       "NS20YT7T              NaN            NaN            NaN          NaN   \n",
       "NL216RVS              NaN            NaN            NaN          NaN   \n",
       "\n",
       "          lanwpktdrop  lanwpktdrop_5g  lanpwr_below100  avg_lanwpkterred  \\\n",
       "bcn_num                                                                    \n",
       "NM20QWAB          NaN             NaN              NaN               NaN   \n",
       "NM20THL6          NaN             NaN              NaN               NaN   \n",
       "NM20SWDF          NaN             NaN              NaN               NaN   \n",
       "NL219S20          NaN             NaN              NaN               NaN   \n",
       "NM20TXNG          NaN             NaN              NaN               NaN   \n",
       "...               ...             ...              ...               ...   \n",
       "NM20B97G          NaN             NaN              NaN               NaN   \n",
       "NS1XEPNL          NaN             NaN              NaN               NaN   \n",
       "NN213Z85          NaN             NaN              NaN               NaN   \n",
       "NS20YT7T          NaN             NaN              NaN               NaN   \n",
       "NL216RVS          NaN             NaN              NaN               NaN   \n",
       "\n",
       "          avg_lanwpkterred_5g  minrssi  maxrssi  max_assoc_dev  channel_change  \n",
       "bcn_num                                                                         \n",
       "NM20QWAB                  NaN      NaN      NaN            NaN             NaN  \n",
       "NM20THL6                  NaN      NaN      NaN            NaN             NaN  \n",
       "NM20SWDF                  NaN      NaN      NaN            NaN             NaN  \n",
       "NL219S20                  NaN      NaN      NaN            NaN             NaN  \n",
       "NM20TXNG                  NaN      NaN      NaN            NaN             NaN  \n",
       "...                       ...      ...      ...            ...             ...  \n",
       "NM20B97G                  NaN      NaN      NaN            NaN             NaN  \n",
       "NS1XEPNL                  NaN      NaN      NaN            NaN             NaN  \n",
       "NN213Z85                  NaN      NaN      NaN            NaN             NaN  \n",
       "NS20YT7T                  NaN      NaN      NaN            NaN             NaN  \n",
       "NL216RVS                  NaN      NaN      NaN            NaN             NaN  \n",
       "\n",
       "[63990 rows x 18 columns]"
      ]
     },
     "execution_count": 125,
     "metadata": {},
     "output_type": "execute_result"
    }
   ],
   "source": [
    "## Total no of samples where all column has NaN\n",
    "df[(df[\"obs_count\"].isnull()==True)&\n",
    "    (df[\"upgrade_count\"].isnull()==True)&\n",
    "    (df[\"max_uptime_days\"].isnull()==True)&\n",
    "   (df[\"min_uptime_hr\"].isnull()==True)&\n",
    "   (df[\"max_uptime_hr\"].isnull()==True)&\n",
    "   (df[\"wandown_cnt\"].isnull()==True)&\n",
    "   (df[\"lanwpktdrop\"].isnull()==True)&\n",
    "   (df[\"lanwpktdrop_5g\"].isnull()==True)&\n",
    "   (df[\"lanpwr_below100\"].isnull()==True)&\n",
    "   (df[\"avg_lanwpkterred\"].isnull()==True)&\n",
    "   (df[\"avg_lanwpkterred_5g\"].isnull()==True)&\n",
    "   (df[\"minrssi\"].isnull()==True)&\n",
    "   (df[\"maxrssi\"].isnull()==True)&\n",
    "   (df[\"max_assoc_dev\"].isnull()==True)&\n",
    "   (df[\"channel_change\"].isnull()==True)]"
   ]
  },
  {
   "cell_type": "markdown",
   "id": "fcb025dc",
   "metadata": {},
   "source": [
    "#### We can see there are 63990 Rows where we have NaN value in all variable in the same row.We can delete these rows."
   ]
  },
  {
   "cell_type": "code",
   "execution_count": 126,
   "id": "b32a45ea",
   "metadata": {},
   "outputs": [],
   "source": [
    "df_new = df.drop(df.index[(df[\"obs_count\"].isnull()==True)&\n",
    "               (df[\"upgrade_count\"].isnull()==True)&\n",
    "               (df[\"max_uptime_days\"].isnull()==True)&\n",
    "               (df[\"min_uptime_hr\"].isnull()==True)&\n",
    "               (df[\"max_uptime_hr\"].isnull()==True)&\n",
    "               (df[\"wandown_cnt\"].isnull()==True)&\n",
    "               (df[\"lanwpktdrop\"].isnull()==True)&\n",
    "               (df[\"lanwpktdrop_5g\"].isnull()==True)&\n",
    "               (df[\"lanpwr_below100\"].isnull()==True)&\n",
    "               (df[\"avg_lanwpkterred\"].isnull()==True)&\n",
    "               (df[\"avg_lanwpkterred_5g\"].isnull()==True)&\n",
    "               (df[\"minrssi\"].isnull()==True)&\n",
    "               (df[\"maxrssi\"].isnull()==True)&\n",
    "               (df[\"max_assoc_dev\"].isnull()==True)&\n",
    "               (df[\"channel_change\"].isnull()==True)])"
   ]
  },
  {
   "cell_type": "code",
   "execution_count": 127,
   "id": "93ef8e0a",
   "metadata": {},
   "outputs": [
    {
     "data": {
      "text/plain": [
       "test_outcome               0\n",
       "CountCases                 0\n",
       "CountWIFICases             0\n",
       "obs_count                  0\n",
       "upgrade_count              0\n",
       "max_uptime_days        20935\n",
       "min_uptime_hr          20935\n",
       "max_uptime_hr          20935\n",
       "wandown_cnt                0\n",
       "lanwpktdrop            20935\n",
       "lanwpktdrop_5g         20935\n",
       "lanpwr_below100            0\n",
       "avg_lanwpkterred       20935\n",
       "avg_lanwpkterred_5g    20935\n",
       "minrssi                63463\n",
       "maxrssi                63463\n",
       "max_assoc_dev          20935\n",
       "channel_change             0\n",
       "dtype: int64"
      ]
     },
     "execution_count": 127,
     "metadata": {},
     "output_type": "execute_result"
    }
   ],
   "source": [
    "df_new.isnull().sum()"
   ]
  },
  {
   "cell_type": "code",
   "execution_count": 128,
   "id": "6740b131",
   "metadata": {},
   "outputs": [
    {
     "data": {
      "text/plain": [
       "<AxesSubplot:>"
      ]
     },
     "execution_count": 128,
     "metadata": {},
     "output_type": "execute_result"
    },
    {
     "data": {
      "image/png": "[encoded data removed]",
      "text/plain": [
       "<Figure size 864x432 with 2 Axes>"
      ]
     },
     "metadata": {
      "needs_background": "light"
     },
     "output_type": "display_data"
    }
   ],
   "source": [
    "msno.matrix(df_new,figsize=(12,6)) "
   ]
  },
  {
   "cell_type": "markdown",
   "id": "ddafd33c",
   "metadata": {},
   "source": [
    "#### from this plot we know that there are few obs that have paired missing value "
   ]
  },
  {
   "cell_type": "code",
   "execution_count": 129,
   "id": "199653cb",
   "metadata": {},
   "outputs": [],
   "source": [
    "df_new2 = df_new.drop(df_new.index[\n",
    "               (df_new[\"max_uptime_days\"].isnull()==True)&\n",
    "               (df_new[\"min_uptime_hr\"].isnull()==True)&\n",
    "               (df_new[\"max_uptime_hr\"].isnull()==True)&\n",
    "               (df_new[\"lanwpktdrop\"].isnull()==True)&\n",
    "               (df_new[\"lanwpktdrop_5g\"].isnull()==True)&\n",
    "               (df_new[\"avg_lanwpkterred\"].isnull()==True)&\n",
    "               (df_new[\"avg_lanwpkterred_5g\"].isnull()==True)&\n",
    "               (df_new[\"minrssi\"].isnull()==True)&\n",
    "               (df_new[\"maxrssi\"].isnull()==True)&\n",
    "               (df_new[\"max_assoc_dev\"].isnull()==True)])"
   ]
  },
  {
   "cell_type": "code",
   "execution_count": 130,
   "id": "185d07ab",
   "metadata": {},
   "outputs": [
    {
     "data": {
      "text/html": [
       "<div>\n",
       "<style scoped>\n",
       "    .dataframe tbody tr th:only-of-type {\n",
       "        vertical-align: middle;\n",
       "    }\n",
       "\n",
       "    .dataframe tbody tr th {\n",
       "        vertical-align: top;\n",
       "    }\n",
       "\n",
       "    .dataframe thead th {\n",
       "        text-align: right;\n",
       "    }\n",
       "</style>\n",
       "<table border=\"1\" class=\"dataframe\">\n",
       "  <thead>\n",
       "    <tr style=\"text-align: right;\">\n",
       "      <th></th>\n",
       "      <th>test_outcome</th>\n",
       "      <th>CountCases</th>\n",
       "      <th>CountWIFICases</th>\n",
       "      <th>obs_count</th>\n",
       "      <th>upgrade_count</th>\n",
       "      <th>max_uptime_days</th>\n",
       "      <th>min_uptime_hr</th>\n",
       "      <th>max_uptime_hr</th>\n",
       "      <th>wandown_cnt</th>\n",
       "      <th>lanwpktdrop</th>\n",
       "      <th>lanwpktdrop_5g</th>\n",
       "      <th>lanpwr_below100</th>\n",
       "      <th>avg_lanwpkterred</th>\n",
       "      <th>avg_lanwpkterred_5g</th>\n",
       "      <th>minrssi</th>\n",
       "      <th>maxrssi</th>\n",
       "      <th>max_assoc_dev</th>\n",
       "      <th>channel_change</th>\n",
       "    </tr>\n",
       "    <tr>\n",
       "      <th>bcn_num</th>\n",
       "      <th></th>\n",
       "      <th></th>\n",
       "      <th></th>\n",
       "      <th></th>\n",
       "      <th></th>\n",
       "      <th></th>\n",
       "      <th></th>\n",
       "      <th></th>\n",
       "      <th></th>\n",
       "      <th></th>\n",
       "      <th></th>\n",
       "      <th></th>\n",
       "      <th></th>\n",
       "      <th></th>\n",
       "      <th></th>\n",
       "      <th></th>\n",
       "      <th></th>\n",
       "      <th></th>\n",
       "    </tr>\n",
       "  </thead>\n",
       "  <tbody>\n",
       "    <tr>\n",
       "      <th>NL20H682</th>\n",
       "      <td>0</td>\n",
       "      <td>2</td>\n",
       "      <td>0</td>\n",
       "      <td>43.0</td>\n",
       "      <td>2.0</td>\n",
       "      <td>30.0</td>\n",
       "      <td>5.0</td>\n",
       "      <td>723.0</td>\n",
       "      <td>0.0</td>\n",
       "      <td>0.0</td>\n",
       "      <td>618831.0</td>\n",
       "      <td>0.0</td>\n",
       "      <td>0.0</td>\n",
       "      <td>2623.0</td>\n",
       "      <td>54.0</td>\n",
       "      <td>87.0</td>\n",
       "      <td>4.0</td>\n",
       "      <td>2.0</td>\n",
       "    </tr>\n",
       "    <tr>\n",
       "      <th>NM20BGH8</th>\n",
       "      <td>0</td>\n",
       "      <td>3</td>\n",
       "      <td>0</td>\n",
       "      <td>47.0</td>\n",
       "      <td>1.0</td>\n",
       "      <td>34.0</td>\n",
       "      <td>2.0</td>\n",
       "      <td>820.0</td>\n",
       "      <td>0.0</td>\n",
       "      <td>0.0</td>\n",
       "      <td>3592059.0</td>\n",
       "      <td>0.0</td>\n",
       "      <td>0.0</td>\n",
       "      <td>266.0</td>\n",
       "      <td>57.0</td>\n",
       "      <td>88.0</td>\n",
       "      <td>3.0</td>\n",
       "      <td>3.0</td>\n",
       "    </tr>\n",
       "    <tr>\n",
       "      <th>NS206FC5</th>\n",
       "      <td>0</td>\n",
       "      <td>0</td>\n",
       "      <td>0</td>\n",
       "      <td>4.0</td>\n",
       "      <td>1.0</td>\n",
       "      <td>4.0</td>\n",
       "      <td>31.0</td>\n",
       "      <td>103.0</td>\n",
       "      <td>0.0</td>\n",
       "      <td>0.0</td>\n",
       "      <td>0.0</td>\n",
       "      <td>0.0</td>\n",
       "      <td>0.0</td>\n",
       "      <td>519.0</td>\n",
       "      <td>NaN</td>\n",
       "      <td>NaN</td>\n",
       "      <td>0.0</td>\n",
       "      <td>1.0</td>\n",
       "    </tr>\n",
       "    <tr>\n",
       "      <th>NM20HLAB</th>\n",
       "      <td>0</td>\n",
       "      <td>9</td>\n",
       "      <td>1</td>\n",
       "      <td>51.0</td>\n",
       "      <td>2.0</td>\n",
       "      <td>73.0</td>\n",
       "      <td>6.0</td>\n",
       "      <td>1760.0</td>\n",
       "      <td>0.0</td>\n",
       "      <td>0.0</td>\n",
       "      <td>609518.0</td>\n",
       "      <td>0.0</td>\n",
       "      <td>0.0</td>\n",
       "      <td>385.0</td>\n",
       "      <td>NaN</td>\n",
       "      <td>NaN</td>\n",
       "      <td>4.0</td>\n",
       "      <td>2.0</td>\n",
       "    </tr>\n",
       "    <tr>\n",
       "      <th>NN21CJHA</th>\n",
       "      <td>0</td>\n",
       "      <td>0</td>\n",
       "      <td>0</td>\n",
       "      <td>45.0</td>\n",
       "      <td>2.0</td>\n",
       "      <td>61.0</td>\n",
       "      <td>15.0</td>\n",
       "      <td>1484.0</td>\n",
       "      <td>0.0</td>\n",
       "      <td>32017.0</td>\n",
       "      <td>181616.0</td>\n",
       "      <td>0.0</td>\n",
       "      <td>844.0</td>\n",
       "      <td>4436.0</td>\n",
       "      <td>45.0</td>\n",
       "      <td>68.0</td>\n",
       "      <td>3.0</td>\n",
       "      <td>2.0</td>\n",
       "    </tr>\n",
       "    <tr>\n",
       "      <th>...</th>\n",
       "      <td>...</td>\n",
       "      <td>...</td>\n",
       "      <td>...</td>\n",
       "      <td>...</td>\n",
       "      <td>...</td>\n",
       "      <td>...</td>\n",
       "      <td>...</td>\n",
       "      <td>...</td>\n",
       "      <td>...</td>\n",
       "      <td>...</td>\n",
       "      <td>...</td>\n",
       "      <td>...</td>\n",
       "      <td>...</td>\n",
       "      <td>...</td>\n",
       "      <td>...</td>\n",
       "      <td>...</td>\n",
       "      <td>...</td>\n",
       "      <td>...</td>\n",
       "    </tr>\n",
       "    <tr>\n",
       "      <th>NL20CXFZ</th>\n",
       "      <td>0</td>\n",
       "      <td>2</td>\n",
       "      <td>0</td>\n",
       "      <td>55.0</td>\n",
       "      <td>2.0</td>\n",
       "      <td>47.0</td>\n",
       "      <td>22.0</td>\n",
       "      <td>1130.0</td>\n",
       "      <td>55.0</td>\n",
       "      <td>0.0</td>\n",
       "      <td>2956289.0</td>\n",
       "      <td>0.0</td>\n",
       "      <td>0.0</td>\n",
       "      <td>67715.0</td>\n",
       "      <td>49.0</td>\n",
       "      <td>52.0</td>\n",
       "      <td>1.0</td>\n",
       "      <td>3.0</td>\n",
       "    </tr>\n",
       "    <tr>\n",
       "      <th>NN20E998</th>\n",
       "      <td>1</td>\n",
       "      <td>3</td>\n",
       "      <td>0</td>\n",
       "      <td>48.0</td>\n",
       "      <td>2.0</td>\n",
       "      <td>0.0</td>\n",
       "      <td>1.0</td>\n",
       "      <td>23.0</td>\n",
       "      <td>0.0</td>\n",
       "      <td>0.0</td>\n",
       "      <td>88063.0</td>\n",
       "      <td>0.0</td>\n",
       "      <td>0.0</td>\n",
       "      <td>20.0</td>\n",
       "      <td>44.0</td>\n",
       "      <td>74.0</td>\n",
       "      <td>2.0</td>\n",
       "      <td>2.0</td>\n",
       "    </tr>\n",
       "    <tr>\n",
       "      <th>NL20V9KF</th>\n",
       "      <td>0</td>\n",
       "      <td>1</td>\n",
       "      <td>0</td>\n",
       "      <td>54.0</td>\n",
       "      <td>1.0</td>\n",
       "      <td>80.0</td>\n",
       "      <td>567.0</td>\n",
       "      <td>1935.0</td>\n",
       "      <td>0.0</td>\n",
       "      <td>195975.0</td>\n",
       "      <td>35318346.0</td>\n",
       "      <td>0.0</td>\n",
       "      <td>4302.0</td>\n",
       "      <td>1086.0</td>\n",
       "      <td>59.0</td>\n",
       "      <td>88.0</td>\n",
       "      <td>2.0</td>\n",
       "      <td>2.0</td>\n",
       "    </tr>\n",
       "    <tr>\n",
       "      <th>NL218X1Q</th>\n",
       "      <td>0</td>\n",
       "      <td>10</td>\n",
       "      <td>0</td>\n",
       "      <td>51.0</td>\n",
       "      <td>2.0</td>\n",
       "      <td>30.0</td>\n",
       "      <td>9.0</td>\n",
       "      <td>734.0</td>\n",
       "      <td>0.0</td>\n",
       "      <td>157001.0</td>\n",
       "      <td>84161.0</td>\n",
       "      <td>0.0</td>\n",
       "      <td>3091.0</td>\n",
       "      <td>64.0</td>\n",
       "      <td>25.0</td>\n",
       "      <td>72.0</td>\n",
       "      <td>5.0</td>\n",
       "      <td>2.0</td>\n",
       "    </tr>\n",
       "    <tr>\n",
       "      <th>NM215AW1</th>\n",
       "      <td>0</td>\n",
       "      <td>0</td>\n",
       "      <td>0</td>\n",
       "      <td>56.0</td>\n",
       "      <td>2.0</td>\n",
       "      <td>30.0</td>\n",
       "      <td>9.0</td>\n",
       "      <td>732.0</td>\n",
       "      <td>0.0</td>\n",
       "      <td>282384.0</td>\n",
       "      <td>11181767.0</td>\n",
       "      <td>0.0</td>\n",
       "      <td>5905.0</td>\n",
       "      <td>1001.0</td>\n",
       "      <td>28.0</td>\n",
       "      <td>85.0</td>\n",
       "      <td>9.0</td>\n",
       "      <td>1.0</td>\n",
       "    </tr>\n",
       "  </tbody>\n",
       "</table>\n",
       "<p>375771 rows × 18 columns</p>\n",
       "</div>"
      ],
      "text/plain": [
       "          test_outcome  CountCases  CountWIFICases  obs_count  upgrade_count  \\\n",
       "bcn_num                                                                        \n",
       "NL20H682             0           2               0       43.0            2.0   \n",
       "NM20BGH8             0           3               0       47.0            1.0   \n",
       "NS206FC5             0           0               0        4.0            1.0   \n",
       "NM20HLAB             0           9               1       51.0            2.0   \n",
       "NN21CJHA             0           0               0       45.0            2.0   \n",
       "...                ...         ...             ...        ...            ...   \n",
       "NL20CXFZ             0           2               0       55.0            2.0   \n",
       "NN20E998             1           3               0       48.0            2.0   \n",
       "NL20V9KF             0           1               0       54.0            1.0   \n",
       "NL218X1Q             0          10               0       51.0            2.0   \n",
       "NM215AW1             0           0               0       56.0            2.0   \n",
       "\n",
       "          max_uptime_days  min_uptime_hr  max_uptime_hr  wandown_cnt  \\\n",
       "bcn_num                                                                \n",
       "NL20H682             30.0            5.0          723.0          0.0   \n",
       "NM20BGH8             34.0            2.0          820.0          0.0   \n",
       "NS206FC5              4.0           31.0          103.0          0.0   \n",
       "NM20HLAB             73.0            6.0         1760.0          0.0   \n",
       "NN21CJHA             61.0           15.0         1484.0          0.0   \n",
       "...                   ...            ...            ...          ...   \n",
       "NL20CXFZ             47.0           22.0         1130.0         55.0   \n",
       "NN20E998              0.0            1.0           23.0          0.0   \n",
       "NL20V9KF             80.0          567.0         1935.0          0.0   \n",
       "NL218X1Q             30.0            9.0          734.0          0.0   \n",
       "NM215AW1             30.0            9.0          732.0          0.0   \n",
       "\n",
       "          lanwpktdrop  lanwpktdrop_5g  lanpwr_below100  avg_lanwpkterred  \\\n",
       "bcn_num                                                                    \n",
       "NL20H682          0.0        618831.0              0.0               0.0   \n",
       "NM20BGH8          0.0       3592059.0              0.0               0.0   \n",
       "NS206FC5          0.0             0.0              0.0               0.0   \n",
       "NM20HLAB          0.0        609518.0              0.0               0.0   \n",
       "NN21CJHA      32017.0        181616.0              0.0             844.0   \n",
       "...               ...             ...              ...               ...   \n",
       "NL20CXFZ          0.0       2956289.0              0.0               0.0   \n",
       "NN20E998          0.0         88063.0              0.0               0.0   \n",
       "NL20V9KF     195975.0      35318346.0              0.0            4302.0   \n",
       "NL218X1Q     157001.0         84161.0              0.0            3091.0   \n",
       "NM215AW1     282384.0      11181767.0              0.0            5905.0   \n",
       "\n",
       "          avg_lanwpkterred_5g  minrssi  maxrssi  max_assoc_dev  channel_change  \n",
       "bcn_num                                                                         \n",
       "NL20H682               2623.0     54.0     87.0            4.0             2.0  \n",
       "NM20BGH8                266.0     57.0     88.0            3.0             3.0  \n",
       "NS206FC5                519.0      NaN      NaN            0.0             1.0  \n",
       "NM20HLAB                385.0      NaN      NaN            4.0             2.0  \n",
       "NN21CJHA               4436.0     45.0     68.0            3.0             2.0  \n",
       "...                       ...      ...      ...            ...             ...  \n",
       "NL20CXFZ              67715.0     49.0     52.0            1.0             3.0  \n",
       "NN20E998                 20.0     44.0     74.0            2.0             2.0  \n",
       "NL20V9KF               1086.0     59.0     88.0            2.0             2.0  \n",
       "NL218X1Q                 64.0     25.0     72.0            5.0             2.0  \n",
       "NM215AW1               1001.0     28.0     85.0            9.0             1.0  \n",
       "\n",
       "[375771 rows x 18 columns]"
      ]
     },
     "execution_count": 130,
     "metadata": {},
     "output_type": "execute_result"
    }
   ],
   "source": [
    "df_new2"
   ]
  },
  {
   "cell_type": "code",
   "execution_count": 131,
   "id": "eed3dc8f",
   "metadata": {},
   "outputs": [
    {
     "data": {
      "text/plain": [
       "<AxesSubplot:>"
      ]
     },
     "execution_count": 131,
     "metadata": {},
     "output_type": "execute_result"
    },
    {
     "data": {
      "image/png": "[encoded data removed]",
      "text/plain": [
       "<Figure size 864x432 with 2 Axes>"
      ]
     },
     "metadata": {
      "needs_background": "light"
     },
     "output_type": "display_data"
    }
   ],
   "source": [
    "msno.matrix(df_new2,figsize=(12,6)) "
   ]
  },
  {
   "cell_type": "code",
   "execution_count": 132,
   "id": "302dec5f",
   "metadata": {},
   "outputs": [],
   "source": [
    "df_pairwise = df_new2.drop(df_new2.index[\n",
    "               (df_new2[\"minrssi\"].isnull()==True)&\n",
    "               (df_new2[\"maxrssi\"].isnull()==True) ])"
   ]
  },
  {
   "cell_type": "code",
   "execution_count": 133,
   "id": "1ef8d064",
   "metadata": {},
   "outputs": [
    {
     "data": {
      "text/plain": [
       "test_outcome           0\n",
       "CountCases             0\n",
       "CountWIFICases         0\n",
       "obs_count              0\n",
       "upgrade_count          0\n",
       "max_uptime_days        0\n",
       "min_uptime_hr          0\n",
       "max_uptime_hr          0\n",
       "wandown_cnt            0\n",
       "lanwpktdrop            0\n",
       "lanwpktdrop_5g         0\n",
       "lanpwr_below100        0\n",
       "avg_lanwpkterred       0\n",
       "avg_lanwpkterred_5g    0\n",
       "minrssi                0\n",
       "maxrssi                0\n",
       "max_assoc_dev          0\n",
       "channel_change         0\n",
       "dtype: int64"
      ]
     },
     "execution_count": 133,
     "metadata": {},
     "output_type": "execute_result"
    }
   ],
   "source": [
    "df_pairwise.isna().sum() "
   ]
  },
  {
   "cell_type": "code",
   "execution_count": 134,
   "id": "a0db5c27",
   "metadata": {},
   "outputs": [
    {
     "data": {
      "text/plain": [
       "(333243, 18)"
      ]
     },
     "execution_count": 134,
     "metadata": {},
     "output_type": "execute_result"
    }
   ],
   "source": [
    "df_listwise.shape"
   ]
  },
  {
   "cell_type": "code",
   "execution_count": 135,
   "id": "117fa453",
   "metadata": {},
   "outputs": [
    {
     "data": {
      "text/plain": [
       "(333243, 18)"
      ]
     },
     "execution_count": 135,
     "metadata": {},
     "output_type": "execute_result"
    }
   ],
   "source": [
    "df_pairwise.shape"
   ]
  },
  {
   "cell_type": "markdown",
   "id": "4cb8276c",
   "metadata": {},
   "source": [
    "#### turns out through listwise or pairwise i got same amount of obs "
   ]
  },
  {
   "cell_type": "code",
   "execution_count": 136,
   "id": "3abd4d6f",
   "metadata": {},
   "outputs": [],
   "source": [
    "df=df_pairwise"
   ]
  },
  {
   "cell_type": "markdown",
   "id": "4cfaff22",
   "metadata": {},
   "source": [
    "### Check The Balance Of Label Data"
   ]
  },
  {
   "cell_type": "code",
   "execution_count": 137,
   "id": "72deac00",
   "metadata": {},
   "outputs": [
    {
     "data": {
      "text/plain": [
       "0    0.946955\n",
       "1    0.053045\n",
       "Name: test_outcome, dtype: float64"
      ]
     },
     "execution_count": 137,
     "metadata": {},
     "output_type": "execute_result"
    }
   ],
   "source": [
    "df['test_outcome'].value_counts()/df.shape[0]"
   ]
  },
  {
   "cell_type": "markdown",
   "id": "e5dec82e",
   "metadata": {},
   "source": [
    "Label Data Highly Imbalance"
   ]
  },
  {
   "cell_type": "markdown",
   "id": "f2e02d2f",
   "metadata": {},
   "source": [
    "## Stratified Data Split"
   ]
  },
  {
   "cell_type": "code",
   "execution_count": 138,
   "id": "d1aec256",
   "metadata": {},
   "outputs": [],
   "source": [
    "# split X and y into training and testing sets stratified\n",
    "from sklearn.model_selection import train_test_split\n",
    "\n",
    "train, test = train_test_split(df, test_size = 0.2, stratify=df.test_outcome)\n",
    "X_train = train.drop(['test_outcome'], axis=1)\n",
    "y_train = train['test_outcome']\n",
    "X_test = test.drop(['test_outcome'], axis=1)\n",
    "y_test = test['test_outcome']"
   ]
  },
  {
   "cell_type": "code",
   "execution_count": 139,
   "id": "032e219e",
   "metadata": {},
   "outputs": [
    {
     "data": {
      "text/plain": [
       "<AxesSubplot:title={'center':'Verify that class distribution in train is same as input data'}, xlabel='test_outcome'>"
      ]
     },
     "execution_count": 139,
     "metadata": {},
     "output_type": "execute_result"
    },
    {
     "data": {
      "image/png": "[encoded data removed]",
      "text/plain": [
       "<Figure size 432x288 with 1 Axes>"
      ]
     },
     "metadata": {
      "needs_background": "light"
     },
     "output_type": "display_data"
    }
   ],
   "source": [
    "train.pivot_table(index='test_outcome', aggfunc='size').plot(kind='bar', title='Verify that class distribution in train is same as input data')"
   ]
  },
  {
   "cell_type": "code",
   "execution_count": 140,
   "id": "cf248870",
   "metadata": {},
   "outputs": [
    {
     "data": {
      "text/plain": [
       "<AxesSubplot:title={'center':'Verify that class distribution in train is same as input data'}, xlabel='test_outcome'>"
      ]
     },
     "execution_count": 140,
     "metadata": {},
     "output_type": "execute_result"
    },
    {
     "data": {
      "image/png": "[encoded data removed]",
      "text/plain": [
       "<Figure size 432x288 with 1 Axes>"
      ]
     },
     "metadata": {
      "needs_background": "light"
     },
     "output_type": "display_data"
    }
   ],
   "source": [
    "test.pivot_table(index='test_outcome', aggfunc='size').plot(kind='bar', title='Verify that class distribution in train is same as input data')"
   ]
  },
  {
   "cell_type": "code",
   "execution_count": 141,
   "id": "b37fe342",
   "metadata": {},
   "outputs": [
    {
     "data": {
      "text/plain": [
       "((266594, 17), (66649, 17))"
      ]
     },
     "execution_count": 141,
     "metadata": {},
     "output_type": "execute_result"
    }
   ],
   "source": [
    "# check the shape of X_train and X_test\n",
    "\n",
    "X_train.shape, X_test.shape"
   ]
  },
  {
   "cell_type": "markdown",
   "id": "af7ddef6",
   "metadata": {},
   "source": [
    "## SMOTE (Synthetic Minority Oversampling Technique)"
   ]
  },
  {
   "cell_type": "markdown",
   "id": "d5a5a9e8",
   "metadata": {},
   "source": [
    "`SMOTE (synthetic minority oversampling technique)` is one of the most commonly used oversampling methods to solve the imbalance problem.\n",
    "It aims to balance class distribution by randomly increasing minority class examples by replicating them.\n",
    "`SMOTE synthesises` new minority instances between existing minority instances. It generates the virtual training records by linear interpolation for the minority class. These synthetic training records are generated by randomly selecting one or more of the k-nearest neighbors for each example in the minority class. After the oversampling process, the data is reconstructed and several classification models can be applied for the processed data."
   ]
  },
  {
   "cell_type": "code",
   "execution_count": 142,
   "id": "eb6f97b6",
   "metadata": {},
   "outputs": [
    {
     "name": "stdout",
     "output_type": "stream",
     "text": [
      "Before OverSampling, counts of label '1': 14142\n",
      "Before OverSampling, counts of label '0': 252452 \n",
      "\n",
      "After OverSampling, the shape of train_X: (504904, 17)\n",
      "After OverSampling, the shape of train_y: (504904,) \n",
      "\n",
      "After OverSampling, counts of label '1': 252452\n",
      "After OverSampling, counts of label '0': 252452\n"
     ]
    }
   ],
   "source": [
    "print(\"Before OverSampling, counts of label '1': {}\".format(sum(y_train == 1)))\n",
    "print(\"Before OverSampling, counts of label '0': {} \\n\".format(sum(y_train == 0)))\n",
    "\n",
    "# import SMOTE module from imblearn library\n",
    "# pip install imblearn (if you don't have imblearn in your system)\n",
    "from imblearn.over_sampling import SMOTE\n",
    "smote = SMOTE(random_state = 2)\n",
    "X_train_res, y_train_res = smote.fit_resample(X_train, y_train.ravel())\n",
    "\n",
    "print('After OverSampling, the shape of train_X: {}'.format(X_train_res.shape))\n",
    "print('After OverSampling, the shape of train_y: {} \\n'.format(y_train_res.shape))\n",
    "\n",
    "print(\"After OverSampling, counts of label '1': {}\".format(sum(y_train_res == 1)))\n",
    "print(\"After OverSampling, counts of label '0': {}\".format(sum(y_train_res == 0)))\n"
   ]
  },
  {
   "cell_type": "code",
   "execution_count": 143,
   "id": "f365aa87",
   "metadata": {},
   "outputs": [
    {
     "name": "stdout",
     "output_type": "stream",
     "text": [
      "Before OverSampling, counts of label '1': 3535\n",
      "Before OverSampling, counts of label '0': 63114 \n",
      "\n",
      "After OverSampling, the shape of test_X: (126228, 17)\n",
      "After OverSampling, the shape of test_y: (126228,) \n",
      "\n",
      "After OverSampling, counts of label '1': 63114\n",
      "After OverSampling, counts of label '0': 63114\n"
     ]
    }
   ],
   "source": [
    "X_test_res, y_test_res = smote.fit_resample(X_test, y_test.ravel())\n",
    "print(\"Before OverSampling, counts of label '1': {}\".format(sum(y_test == 1)))\n",
    "print(\"Before OverSampling, counts of label '0': {} \\n\".format(sum(y_test == 0)))\n",
    "\n",
    "print('After OverSampling, the shape of test_X: {}'.format(X_test_res.shape))\n",
    "print('After OverSampling, the shape of test_y: {} \\n'.format(y_test_res.shape))\n",
    "\n",
    "print(\"After OverSampling, counts of label '1': {}\".format(sum(y_test_res == 1)))\n",
    "print(\"After OverSampling, counts of label '0': {}\".format(sum(y_test_res == 0)))\n"
   ]
  },
  {
   "cell_type": "code",
   "execution_count": 144,
   "id": "9d3162b2",
   "metadata": {},
   "outputs": [
    {
     "data": {
      "text/plain": [
       "<AxesSubplot:title={'center':'Class distribution after applying SMOTE'}, xlabel='test_outcome'>"
      ]
     },
     "execution_count": 144,
     "metadata": {},
     "output_type": "execute_result"
    },
    {
     "data": {
      "image/png": "[encoded data removed]",
      "text/plain": [
       "<Figure size 432x288 with 1 Axes>"
      ]
     },
     "metadata": {
      "needs_background": "light"
     },
     "output_type": "display_data"
    }
   ],
   "source": [
    "pd.Series(y_train_res).value_counts().plot(kind='bar', title='Class distribution after applying SMOTE', xlabel='test_outcome')"
   ]
  },
  {
   "cell_type": "code",
   "execution_count": 145,
   "id": "e70b05ec",
   "metadata": {},
   "outputs": [
    {
     "data": {
      "text/plain": [
       "<AxesSubplot:title={'center':'Class distribution after applying SMOTE'}, xlabel='test_outcome'>"
      ]
     },
     "execution_count": 145,
     "metadata": {},
     "output_type": "execute_result"
    },
    {
     "data": {
      "image/png": "[encoded data removed]",
      "text/plain": [
       "<Figure size 432x288 with 1 Axes>"
      ]
     },
     "metadata": {
      "needs_background": "light"
     },
     "output_type": "display_data"
    }
   ],
   "source": [
    "pd.Series(y_test_res).value_counts().plot(kind='bar', title='Class distribution after applying SMOTE', xlabel='test_outcome')"
   ]
  },
  {
   "cell_type": "markdown",
   "id": "f6e39d8c",
   "metadata": {},
   "source": [
    "## NearMiss Algorithm (Undersampling)"
   ]
  },
  {
   "cell_type": "code",
   "execution_count": 146,
   "id": "c780059d",
   "metadata": {},
   "outputs": [
    {
     "name": "stdout",
     "output_type": "stream",
     "text": [
      "Before Undersampling, counts of label '1': 14142\n",
      "Before Undersampling, counts of label '0': 252452 \n",
      "\n",
      "After Undersampling, the shape of train_X: (28284, 17)\n",
      "After Undersampling, the shape of train_y: (28284,) \n",
      "\n",
      "After Undersampling, counts of label '1': 14142\n",
      "After Undersampling, counts of label '0': 14142\n"
     ]
    }
   ],
   "source": [
    "print(\"Before Undersampling, counts of label '1': {}\".format(sum(y_train == 1)))\n",
    "print(\"Before Undersampling, counts of label '0': {} \\n\".format(sum(y_train == 0)))\n",
    "  \n",
    "# apply near miss\n",
    "from imblearn.under_sampling import NearMiss\n",
    "nr = NearMiss()\n",
    "  \n",
    "X_train_miss, y_train_miss = nr.fit_resample(X_train, y_train.ravel())\n",
    "  \n",
    "print('After Undersampling, the shape of train_X: {}'.format(X_train_miss.shape))\n",
    "print('After Undersampling, the shape of train_y: {} \\n'.format(y_train_miss.shape))\n",
    "  \n",
    "print(\"After Undersampling, counts of label '1': {}\".format(sum(y_train_miss == 1)))\n",
    "print(\"After Undersampling, counts of label '0': {}\".format(sum(y_train_miss == 0)))"
   ]
  },
  {
   "cell_type": "code",
   "execution_count": 147,
   "id": "b538c17f",
   "metadata": {},
   "outputs": [
    {
     "name": "stdout",
     "output_type": "stream",
     "text": [
      "Before Undersampling, counts of label '1': 3535\n",
      "Before Undersampling, counts of label '0': 63114 \n",
      "\n",
      "After Undersampling, the shape of test_X: (7070, 17)\n",
      "After Undersampling, the shape of test_y: (7070,) \n",
      "\n",
      "After Undersampling, counts of label '1': 3535\n",
      "After Undersampling, counts of label '0': 3535\n"
     ]
    }
   ],
   "source": [
    "print(\"Before Undersampling, counts of label '1': {}\".format(sum(y_test == 1)))\n",
    "print(\"Before Undersampling, counts of label '0': {} \\n\".format(sum(y_test == 0)))\n",
    "  \n",
    "X_test_miss, y_test_miss = nr.fit_resample(X_test, y_test.ravel())\n",
    "  \n",
    "print('After Undersampling, the shape of test_X: {}'.format(X_test_miss.shape))\n",
    "print('After Undersampling, the shape of test_y: {} \\n'.format(y_test_miss.shape))\n",
    "  \n",
    "print(\"After Undersampling, counts of label '1': {}\".format(sum(y_test_miss == 1)))\n",
    "print(\"After Undersampling, counts of label '0': {}\".format(sum(y_test_miss == 0)))"
   ]
  },
  {
   "cell_type": "code",
   "execution_count": 148,
   "id": "2da0af89",
   "metadata": {},
   "outputs": [
    {
     "data": {
      "text/plain": [
       "<AxesSubplot:title={'center':'Class distribution after applying NearMiss'}, xlabel='test_outcome'>"
      ]
     },
     "execution_count": 148,
     "metadata": {},
     "output_type": "execute_result"
    },
    {
     "data": {
      "image/png": "[encoded data removed]",
      "text/plain": [
       "<Figure size 432x288 with 1 Axes>"
      ]
     },
     "metadata": {
      "needs_background": "light"
     },
     "output_type": "display_data"
    }
   ],
   "source": [
    "pd.Series(y_train_miss).value_counts().plot(kind='bar', title='Class distribution after applying NearMiss', xlabel='test_outcome')"
   ]
  },
  {
   "cell_type": "code",
   "execution_count": 149,
   "id": "6179c091",
   "metadata": {},
   "outputs": [
    {
     "data": {
      "text/plain": [
       "<AxesSubplot:title={'center':'Class distribution after applying NearMiss'}, xlabel='test_outcome'>"
      ]
     },
     "execution_count": 149,
     "metadata": {},
     "output_type": "execute_result"
    },
    {
     "data": {
      "image/png": "[encoded data removed]",
      "text/plain": [
       "<Figure size 432x288 with 1 Axes>"
      ]
     },
     "metadata": {
      "needs_background": "light"
     },
     "output_type": "display_data"
    }
   ],
   "source": [
    "pd.Series(y_test_miss).value_counts().plot(kind='bar', title='Class distribution after applying NearMiss', xlabel='test_outcome')"
   ]
  },
  {
   "cell_type": "markdown",
   "id": "86f3cb2d",
   "metadata": {},
   "source": [
    "# Build Model with Oversampling Sample"
   ]
  },
  {
   "cell_type": "markdown",
   "id": "5a4b6b06",
   "metadata": {},
   "source": [
    "# Feature Scaling"
   ]
  },
  {
   "cell_type": "code",
   "execution_count": 150,
   "id": "ffdbd068",
   "metadata": {},
   "outputs": [
    {
     "data": {
      "text/html": [
       "<div>\n",
       "<style scoped>\n",
       "    .dataframe tbody tr th:only-of-type {\n",
       "        vertical-align: middle;\n",
       "    }\n",
       "\n",
       "    .dataframe tbody tr th {\n",
       "        vertical-align: top;\n",
       "    }\n",
       "\n",
       "    .dataframe thead th {\n",
       "        text-align: right;\n",
       "    }\n",
       "</style>\n",
       "<table border=\"1\" class=\"dataframe\">\n",
       "  <thead>\n",
       "    <tr style=\"text-align: right;\">\n",
       "      <th></th>\n",
       "      <th>CountCases</th>\n",
       "      <th>CountWIFICases</th>\n",
       "      <th>obs_count</th>\n",
       "      <th>upgrade_count</th>\n",
       "      <th>max_uptime_days</th>\n",
       "      <th>min_uptime_hr</th>\n",
       "      <th>max_uptime_hr</th>\n",
       "      <th>wandown_cnt</th>\n",
       "      <th>lanwpktdrop</th>\n",
       "      <th>lanwpktdrop_5g</th>\n",
       "      <th>lanpwr_below100</th>\n",
       "      <th>avg_lanwpkterred</th>\n",
       "      <th>avg_lanwpkterred_5g</th>\n",
       "      <th>minrssi</th>\n",
       "      <th>maxrssi</th>\n",
       "      <th>max_assoc_dev</th>\n",
       "      <th>channel_change</th>\n",
       "    </tr>\n",
       "  </thead>\n",
       "  <tbody>\n",
       "    <tr>\n",
       "      <th>count</th>\n",
       "      <td>504904.000000</td>\n",
       "      <td>504904.000000</td>\n",
       "      <td>504904.000000</td>\n",
       "      <td>504904.000000</td>\n",
       "      <td>504904.000000</td>\n",
       "      <td>504904.000000</td>\n",
       "      <td>504904.000000</td>\n",
       "      <td>504904.000000</td>\n",
       "      <td>5.049040e+05</td>\n",
       "      <td>5.049040e+05</td>\n",
       "      <td>504904.000000</td>\n",
       "      <td>5.049040e+05</td>\n",
       "      <td>5.049040e+05</td>\n",
       "      <td>504904.000000</td>\n",
       "      <td>504904.000000</td>\n",
       "      <td>504904.000000</td>\n",
       "      <td>504904.000000</td>\n",
       "    </tr>\n",
       "    <tr>\n",
       "      <th>mean</th>\n",
       "      <td>2.095838</td>\n",
       "      <td>0.069819</td>\n",
       "      <td>47.620400</td>\n",
       "      <td>1.748613</td>\n",
       "      <td>38.891022</td>\n",
       "      <td>21.991678</td>\n",
       "      <td>944.691596</td>\n",
       "      <td>16.771055</td>\n",
       "      <td>1.239877e+06</td>\n",
       "      <td>2.519003e+07</td>\n",
       "      <td>0.043117</td>\n",
       "      <td>7.830947e+04</td>\n",
       "      <td>7.370374e+04</td>\n",
       "      <td>40.454941</td>\n",
       "      <td>75.640065</td>\n",
       "      <td>4.618164</td>\n",
       "      <td>2.214438</td>\n",
       "    </tr>\n",
       "    <tr>\n",
       "      <th>std</th>\n",
       "      <td>2.976343</td>\n",
       "      <td>0.332341</td>\n",
       "      <td>12.272225</td>\n",
       "      <td>0.431108</td>\n",
       "      <td>18.447702</td>\n",
       "      <td>82.633605</td>\n",
       "      <td>442.824133</td>\n",
       "      <td>22.579895</td>\n",
       "      <td>2.768184e+07</td>\n",
       "      <td>8.632777e+07</td>\n",
       "      <td>1.281601</td>\n",
       "      <td>4.860849e+06</td>\n",
       "      <td>4.450556e+06</td>\n",
       "      <td>12.378788</td>\n",
       "      <td>11.494928</td>\n",
       "      <td>3.332532</td>\n",
       "      <td>0.726968</td>\n",
       "    </tr>\n",
       "    <tr>\n",
       "      <th>min</th>\n",
       "      <td>0.000000</td>\n",
       "      <td>0.000000</td>\n",
       "      <td>1.000000</td>\n",
       "      <td>1.000000</td>\n",
       "      <td>0.000000</td>\n",
       "      <td>0.000000</td>\n",
       "      <td>0.000000</td>\n",
       "      <td>0.000000</td>\n",
       "      <td>0.000000e+00</td>\n",
       "      <td>0.000000e+00</td>\n",
       "      <td>0.000000</td>\n",
       "      <td>0.000000e+00</td>\n",
       "      <td>0.000000e+00</td>\n",
       "      <td>-81.000000</td>\n",
       "      <td>-56.000000</td>\n",
       "      <td>0.000000</td>\n",
       "      <td>1.000000</td>\n",
       "    </tr>\n",
       "    <tr>\n",
       "      <th>25%</th>\n",
       "      <td>0.000000</td>\n",
       "      <td>0.000000</td>\n",
       "      <td>44.663520</td>\n",
       "      <td>1.408877</td>\n",
       "      <td>25.673194</td>\n",
       "      <td>2.216997</td>\n",
       "      <td>625.000000</td>\n",
       "      <td>0.000000</td>\n",
       "      <td>0.000000e+00</td>\n",
       "      <td>4.974537e+05</td>\n",
       "      <td>0.000000</td>\n",
       "      <td>0.000000e+00</td>\n",
       "      <td>5.050000e+02</td>\n",
       "      <td>32.473248</td>\n",
       "      <td>69.642335</td>\n",
       "      <td>2.000000</td>\n",
       "      <td>2.000000</td>\n",
       "    </tr>\n",
       "    <tr>\n",
       "      <th>50%</th>\n",
       "      <td>1.000000</td>\n",
       "      <td>0.000000</td>\n",
       "      <td>52.083286</td>\n",
       "      <td>2.000000</td>\n",
       "      <td>37.937276</td>\n",
       "      <td>6.214163</td>\n",
       "      <td>916.767791</td>\n",
       "      <td>0.000000</td>\n",
       "      <td>1.270176e+04</td>\n",
       "      <td>3.823149e+06</td>\n",
       "      <td>0.000000</td>\n",
       "      <td>5.640000e+02</td>\n",
       "      <td>1.912018e+03</td>\n",
       "      <td>40.000000</td>\n",
       "      <td>78.000000</td>\n",
       "      <td>4.000000</td>\n",
       "      <td>2.000000</td>\n",
       "    </tr>\n",
       "    <tr>\n",
       "      <th>75%</th>\n",
       "      <td>3.000000</td>\n",
       "      <td>0.000000</td>\n",
       "      <td>55.000000</td>\n",
       "      <td>2.000000</td>\n",
       "      <td>51.375703</td>\n",
       "      <td>13.000000</td>\n",
       "      <td>1246.000000</td>\n",
       "      <td>40.534471</td>\n",
       "      <td>1.374600e+05</td>\n",
       "      <td>1.705890e+07</td>\n",
       "      <td>0.000000</td>\n",
       "      <td>6.088129e+03</td>\n",
       "      <td>7.400630e+03</td>\n",
       "      <td>47.579110</td>\n",
       "      <td>84.173609</td>\n",
       "      <td>6.000000</td>\n",
       "      <td>3.000000</td>\n",
       "    </tr>\n",
       "    <tr>\n",
       "      <th>max</th>\n",
       "      <td>150.000000</td>\n",
       "      <td>12.000000</td>\n",
       "      <td>61.000000</td>\n",
       "      <td>5.000000</td>\n",
       "      <td>247.000000</td>\n",
       "      <td>3981.000000</td>\n",
       "      <td>5950.000000</td>\n",
       "      <td>61.000000</td>\n",
       "      <td>2.147484e+09</td>\n",
       "      <td>2.147484e+09</td>\n",
       "      <td>60.000000</td>\n",
       "      <td>1.830318e+09</td>\n",
       "      <td>1.377901e+09</td>\n",
       "      <td>94.000000</td>\n",
       "      <td>95.000000</td>\n",
       "      <td>69.000000</td>\n",
       "      <td>11.000000</td>\n",
       "    </tr>\n",
       "  </tbody>\n",
       "</table>\n",
       "</div>"
      ],
      "text/plain": [
       "          CountCases  CountWIFICases      obs_count  upgrade_count  \\\n",
       "count  504904.000000   504904.000000  504904.000000  504904.000000   \n",
       "mean        2.095838        0.069819      47.620400       1.748613   \n",
       "std         2.976343        0.332341      12.272225       0.431108   \n",
       "min         0.000000        0.000000       1.000000       1.000000   \n",
       "25%         0.000000        0.000000      44.663520       1.408877   \n",
       "50%         1.000000        0.000000      52.083286       2.000000   \n",
       "75%         3.000000        0.000000      55.000000       2.000000   \n",
       "max       150.000000       12.000000      61.000000       5.000000   \n",
       "\n",
       "       max_uptime_days  min_uptime_hr  max_uptime_hr    wandown_cnt  \\\n",
       "count    504904.000000  504904.000000  504904.000000  504904.000000   \n",
       "mean         38.891022      21.991678     944.691596      16.771055   \n",
       "std          18.447702      82.633605     442.824133      22.579895   \n",
       "min           0.000000       0.000000       0.000000       0.000000   \n",
       "25%          25.673194       2.216997     625.000000       0.000000   \n",
       "50%          37.937276       6.214163     916.767791       0.000000   \n",
       "75%          51.375703      13.000000    1246.000000      40.534471   \n",
       "max         247.000000    3981.000000    5950.000000      61.000000   \n",
       "\n",
       "        lanwpktdrop  lanwpktdrop_5g  lanpwr_below100  avg_lanwpkterred  \\\n",
       "count  5.049040e+05    5.049040e+05    504904.000000      5.049040e+05   \n",
       "mean   1.239877e+06    2.519003e+07         0.043117      7.830947e+04   \n",
       "std    2.768184e+07    8.632777e+07         1.281601      4.860849e+06   \n",
       "min    0.000000e+00    0.000000e+00         0.000000      0.000000e+00   \n",
       "25%    0.000000e+00    4.974537e+05         0.000000      0.000000e+00   \n",
       "50%    1.270176e+04    3.823149e+06         0.000000      5.640000e+02   \n",
       "75%    1.374600e+05    1.705890e+07         0.000000      6.088129e+03   \n",
       "max    2.147484e+09    2.147484e+09        60.000000      1.830318e+09   \n",
       "\n",
       "       avg_lanwpkterred_5g        minrssi        maxrssi  max_assoc_dev  \\\n",
       "count         5.049040e+05  504904.000000  504904.000000  504904.000000   \n",
       "mean          7.370374e+04      40.454941      75.640065       4.618164   \n",
       "std           4.450556e+06      12.378788      11.494928       3.332532   \n",
       "min           0.000000e+00     -81.000000     -56.000000       0.000000   \n",
       "25%           5.050000e+02      32.473248      69.642335       2.000000   \n",
       "50%           1.912018e+03      40.000000      78.000000       4.000000   \n",
       "75%           7.400630e+03      47.579110      84.173609       6.000000   \n",
       "max           1.377901e+09      94.000000      95.000000      69.000000   \n",
       "\n",
       "       channel_change  \n",
       "count   504904.000000  \n",
       "mean         2.214438  \n",
       "std          0.726968  \n",
       "min          1.000000  \n",
       "25%          2.000000  \n",
       "50%          2.000000  \n",
       "75%          3.000000  \n",
       "max         11.000000  "
      ]
     },
     "execution_count": 150,
     "metadata": {},
     "output_type": "execute_result"
    }
   ],
   "source": [
    "X_train_res.describe()"
   ]
  },
  {
   "cell_type": "code",
   "execution_count": 151,
   "id": "f7dc2bce",
   "metadata": {},
   "outputs": [],
   "source": [
    "# Normalizing the features\n",
    "\n",
    "from sklearn.preprocessing import MinMaxScaler\n",
    "\n",
    "index_train_res = X_train_res.index\n",
    "index_test_res = X_test_res.index\n",
    "\n",
    "n_scaler = MinMaxScaler()\n",
    "X_train_res = pd.DataFrame(n_scaler.fit_transform(X_train_res), index=index_train_res,columns=X_train_res.columns)\n",
    "X_test_res = pd.DataFrame(n_scaler.transform(X_test_res), index=index_test_res,columns=X_test_res.columns)"
   ]
  },
  {
   "cell_type": "markdown",
   "id": "68206545",
   "metadata": {},
   "source": [
    "#### now i have X_train_res dataset ready to be fed into the Logistic Regression classifier"
   ]
  },
  {
   "cell_type": "markdown",
   "id": "b36db6e4",
   "metadata": {},
   "source": [
    "## Training Model"
   ]
  },
  {
   "cell_type": "code",
   "execution_count": 152,
   "id": "88a129a3",
   "metadata": {},
   "outputs": [],
   "source": [
    "# train a logistic regression model on the training set\n",
    "from sklearn.linear_model import LogisticRegression\n",
    "\n",
    "\n",
    "# instantiate the model\n",
    "logreg = LogisticRegression(solver='liblinear', random_state=42).fit(X_train_res, y_train_res)\n",
    "\n"
   ]
  },
  {
   "cell_type": "markdown",
   "id": "fb65d983",
   "metadata": {},
   "source": [
    "## Result Prediction "
   ]
  },
  {
   "cell_type": "code",
   "execution_count": 153,
   "id": "82c422df",
   "metadata": {},
   "outputs": [
    {
     "data": {
      "text/plain": [
       "array([1, 0, 0, ..., 1, 1, 0], dtype=int64)"
      ]
     },
     "execution_count": 153,
     "metadata": {},
     "output_type": "execute_result"
    }
   ],
   "source": [
    "y_pred_test_res = logreg.predict(X_test_res)\n",
    "\n",
    "y_pred_test_res"
   ]
  },
  {
   "cell_type": "markdown",
   "id": "3270624e",
   "metadata": {},
   "source": [
    "## Accuracy Score"
   ]
  },
  {
   "cell_type": "code",
   "execution_count": 154,
   "id": "2e563184",
   "metadata": {},
   "outputs": [
    {
     "name": "stdout",
     "output_type": "stream",
     "text": [
      "The accuracy score is: 0.576\n"
     ]
    }
   ],
   "source": [
    "from sklearn.metrics import accuracy_score\n",
    "\n",
    "print('The accuracy score is: %.3f' % accuracy_score(y_train_res, logreg.predict(X_train_res)))"
   ]
  },
  {
   "cell_type": "code",
   "execution_count": 155,
   "id": "adc90d0b",
   "metadata": {},
   "outputs": [
    {
     "data": {
      "text/html": [
       "<div>\n",
       "<style scoped>\n",
       "    .dataframe tbody tr th:only-of-type {\n",
       "        vertical-align: middle;\n",
       "    }\n",
       "\n",
       "    .dataframe tbody tr th {\n",
       "        vertical-align: top;\n",
       "    }\n",
       "\n",
       "    .dataframe thead th {\n",
       "        text-align: right;\n",
       "    }\n",
       "</style>\n",
       "<table border=\"1\" class=\"dataframe\">\n",
       "  <thead>\n",
       "    <tr style=\"text-align: right;\">\n",
       "      <th></th>\n",
       "      <th>VIF Factor</th>\n",
       "      <th>features</th>\n",
       "    </tr>\n",
       "  </thead>\n",
       "  <tbody>\n",
       "    <tr>\n",
       "      <th>0</th>\n",
       "      <td>1.8</td>\n",
       "      <td>CountCases</td>\n",
       "    </tr>\n",
       "    <tr>\n",
       "      <th>1</th>\n",
       "      <td>1.2</td>\n",
       "      <td>CountWIFICases</td>\n",
       "    </tr>\n",
       "    <tr>\n",
       "      <th>2</th>\n",
       "      <td>24.7</td>\n",
       "      <td>obs_count</td>\n",
       "    </tr>\n",
       "    <tr>\n",
       "      <th>3</th>\n",
       "      <td>5.0</td>\n",
       "      <td>upgrade_count</td>\n",
       "    </tr>\n",
       "    <tr>\n",
       "      <th>4</th>\n",
       "      <td>25156.1</td>\n",
       "      <td>max_uptime_days</td>\n",
       "    </tr>\n",
       "    <tr>\n",
       "      <th>5</th>\n",
       "      <td>1.3</td>\n",
       "      <td>min_uptime_hr</td>\n",
       "    </tr>\n",
       "    <tr>\n",
       "      <th>6</th>\n",
       "      <td>25658.6</td>\n",
       "      <td>max_uptime_hr</td>\n",
       "    </tr>\n",
       "    <tr>\n",
       "      <th>7</th>\n",
       "      <td>1.7</td>\n",
       "      <td>wandown_cnt</td>\n",
       "    </tr>\n",
       "    <tr>\n",
       "      <th>8</th>\n",
       "      <td>1.0</td>\n",
       "      <td>lanwpktdrop</td>\n",
       "    </tr>\n",
       "    <tr>\n",
       "      <th>9</th>\n",
       "      <td>1.2</td>\n",
       "      <td>lanwpktdrop_5g</td>\n",
       "    </tr>\n",
       "    <tr>\n",
       "      <th>10</th>\n",
       "      <td>1.0</td>\n",
       "      <td>lanpwr_below100</td>\n",
       "    </tr>\n",
       "    <tr>\n",
       "      <th>11</th>\n",
       "      <td>1.0</td>\n",
       "      <td>avg_lanwpkterred</td>\n",
       "    </tr>\n",
       "    <tr>\n",
       "      <th>12</th>\n",
       "      <td>1.0</td>\n",
       "      <td>avg_lanwpkterred_5g</td>\n",
       "    </tr>\n",
       "    <tr>\n",
       "      <th>13</th>\n",
       "      <td>83.9</td>\n",
       "      <td>minrssi</td>\n",
       "    </tr>\n",
       "    <tr>\n",
       "      <th>14</th>\n",
       "      <td>117.0</td>\n",
       "      <td>maxrssi</td>\n",
       "    </tr>\n",
       "    <tr>\n",
       "      <th>15</th>\n",
       "      <td>4.4</td>\n",
       "      <td>max_assoc_dev</td>\n",
       "    </tr>\n",
       "    <tr>\n",
       "      <th>16</th>\n",
       "      <td>4.3</td>\n",
       "      <td>channel_change</td>\n",
       "    </tr>\n",
       "  </tbody>\n",
       "</table>\n",
       "</div>"
      ],
      "text/plain": [
       "    VIF Factor             features\n",
       "0          1.8           CountCases\n",
       "1          1.2       CountWIFICases\n",
       "2         24.7            obs_count\n",
       "3          5.0        upgrade_count\n",
       "4      25156.1      max_uptime_days\n",
       "5          1.3        min_uptime_hr\n",
       "6      25658.6        max_uptime_hr\n",
       "7          1.7          wandown_cnt\n",
       "8          1.0          lanwpktdrop\n",
       "9          1.2       lanwpktdrop_5g\n",
       "10         1.0      lanpwr_below100\n",
       "11         1.0     avg_lanwpkterred\n",
       "12         1.0  avg_lanwpkterred_5g\n",
       "13        83.9              minrssi\n",
       "14       117.0              maxrssi\n",
       "15         4.4        max_assoc_dev\n",
       "16         4.3       channel_change"
      ]
     },
     "execution_count": 155,
     "metadata": {},
     "output_type": "execute_result"
    }
   ],
   "source": [
    "#Calculating Variance Inflation Factor (VIF):\n",
    "\n",
    "from statsmodels.stats.outliers_influence import variance_inflation_factor\n",
    "\n",
    "vif = pd.DataFrame()\n",
    "vif[\"VIF Factor\"] = [variance_inflation_factor(X_train_res.values, i) for i in range(X_train_res.shape[1])]\n",
    "vif[\"features\"] = X_train_res.columns\n",
    "\n",
    "vif.round(1)"
   ]
  },
  {
   "cell_type": "markdown",
   "id": "cd99d5cb",
   "metadata": {},
   "source": [
    "#### From table above i conclude that there is multicolinearity because VIF >10"
   ]
  },
  {
   "cell_type": "markdown",
   "id": "2d222b7e",
   "metadata": {},
   "source": [
    "## Variable Selection Using Stepwise "
   ]
  },
  {
   "cell_type": "code",
   "execution_count": 156,
   "id": "1ccc9d2e",
   "metadata": {},
   "outputs": [],
   "source": [
    "#Function for Stepwise Feature Selection:\n",
    "\n",
    "def stepwise_selection(data, target,SL_in=0.05,SL_out = 0.05):\n",
    "    initial_features = data.columns.tolist()\n",
    "    best_features = []\n",
    "    while (len(initial_features)>0):\n",
    "        remaining_features = list(set(initial_features)-set(best_features))\n",
    "        new_pval = pd.Series(index=remaining_features, dtype='float64')\n",
    "        for new_column in remaining_features:\n",
    "            model = sm.Logit(target, sm.add_constant(data[best_features+[new_column]])).fit()\n",
    "            new_pval[new_column] = model.pvalues[new_column]\n",
    "        min_p_value = new_pval.min()\n",
    "        if(min_p_value<SL_in):\n",
    "            best_features.append(new_pval.idxmin())\n",
    "            while(len(best_features)>0):\n",
    "                best_features_with_constant = sm.add_constant(data[best_features])\n",
    "                p_values = sm.Logit(target, best_features_with_constant).fit().pvalues[1:]\n",
    "                max_p_value = p_values.max()\n",
    "                if(max_p_value >= SL_out):\n",
    "                    excluded_feature = p_values.idxmax()\n",
    "                    best_features.remove(excluded_feature)\n",
    "                else:\n",
    "                    break \n",
    "        else:\n",
    "            break\n",
    "    return best_features"
   ]
  },
  {
   "cell_type": "code",
   "execution_count": 157,
   "id": "a273c389",
   "metadata": {},
   "outputs": [
    {
     "name": "stdout",
     "output_type": "stream",
     "text": [
      "Optimization terminated successfully.\n",
      "         Current function value: 0.693004\n",
      "         Iterations 3\n",
      "Optimization terminated successfully.\n",
      "         Current function value: 0.693082\n",
      "         Iterations 3\n",
      "Optimization terminated successfully.\n",
      "         Current function value: 0.687362\n",
      "         Iterations 4\n",
      "Optimization terminated successfully.\n",
      "         Current function value: 0.687961\n",
      "         Iterations 5\n",
      "Optimization terminated successfully.\n",
      "         Current function value: 0.691710\n",
      "         Iterations 5\n",
      "Optimization terminated successfully.\n",
      "         Current function value: 0.692123\n",
      "         Iterations 4\n",
      "Optimization terminated successfully.\n",
      "         Current function value: 0.690786\n",
      "         Iterations 4\n",
      "Optimization terminated successfully.\n",
      "         Current function value: 0.690768\n",
      "         Iterations 4\n",
      "Optimization terminated successfully.\n",
      "         Current function value: 0.692686\n",
      "         Iterations 4\n",
      "Optimization terminated successfully.\n",
      "         Current function value: 0.691634\n",
      "         Iterations 4\n",
      "Optimization terminated successfully.\n",
      "         Current function value: 0.693144\n",
      "         Iterations 5\n",
      "Optimization terminated successfully.\n",
      "         Current function value: 0.693096\n",
      "         Iterations 3\n",
      "Optimization terminated successfully.\n",
      "         Current function value: 0.693034\n",
      "         Iterations 4\n",
      "Optimization terminated successfully.\n",
      "         Current function value: 0.693055\n",
      "         Iterations 5\n",
      "Optimization terminated successfully.\n",
      "         Current function value: 0.693140\n",
      "         Iterations 3\n",
      "Optimization terminated successfully.\n",
      "         Current function value: 0.693133\n",
      "         Iterations 4\n",
      "Optimization terminated successfully.\n",
      "         Current function value: 0.693134\n",
      "         Iterations 6\n",
      "Optimization terminated successfully.\n",
      "         Current function value: 0.687362\n",
      "         Iterations 4\n",
      "Optimization terminated successfully.\n",
      "         Current function value: 0.687339\n",
      "         Iterations 4\n",
      "Optimization terminated successfully.\n",
      "         Current function value: 0.687257\n",
      "         Iterations 4\n",
      "Optimization terminated successfully.\n",
      "         Current function value: 0.682501\n",
      "         Iterations 5\n",
      "Optimization terminated successfully.\n",
      "         Current function value: 0.686692\n",
      "         Iterations 5\n",
      "Optimization terminated successfully.\n",
      "         Current function value: 0.685929\n",
      "         Iterations 4\n",
      "Optimization terminated successfully.\n",
      "         Current function value: 0.686072\n",
      "         Iterations 4\n",
      "Optimization terminated successfully.\n",
      "         Current function value: 0.686059\n",
      "         Iterations 4\n",
      "Optimization terminated successfully.\n",
      "         Current function value: 0.686949\n",
      "         Iterations 4\n",
      "Optimization terminated successfully.\n",
      "         Current function value: 0.685918\n",
      "         Iterations 4\n",
      "Optimization terminated successfully.\n",
      "         Current function value: 0.687361\n",
      "         Iterations 5\n",
      "Optimization terminated successfully.\n",
      "         Current function value: 0.687362\n",
      "         Iterations 4\n",
      "Optimization terminated successfully.\n",
      "         Current function value: 0.687247\n",
      "         Iterations 4\n",
      "Optimization terminated successfully.\n",
      "         Current function value: 0.687263\n",
      "         Iterations 5\n",
      "Optimization terminated successfully.\n",
      "         Current function value: 0.687361\n",
      "         Iterations 4\n",
      "Optimization terminated successfully.\n",
      "         Current function value: 0.687360\n",
      "         Iterations 4\n",
      "Optimization terminated successfully.\n",
      "         Current function value: 0.687352\n",
      "         Iterations 6\n",
      "Optimization terminated successfully.\n",
      "         Current function value: 0.682501\n",
      "         Iterations 5\n",
      "Optimization terminated successfully.\n",
      "         Current function value: 0.682441\n",
      "         Iterations 5\n",
      "Optimization terminated successfully.\n",
      "         Current function value: 0.682380\n",
      "         Iterations 5\n",
      "Optimization terminated successfully.\n",
      "         Current function value: 0.681802\n",
      "         Iterations 5\n",
      "Optimization terminated successfully.\n",
      "         Current function value: 0.680966\n",
      "         Iterations 5\n",
      "Optimization terminated successfully.\n",
      "         Current function value: 0.681142\n",
      "         Iterations 5\n",
      "Optimization terminated successfully.\n",
      "         Current function value: 0.681129\n",
      "         Iterations 5\n",
      "Optimization terminated successfully.\n",
      "         Current function value: 0.680118\n",
      "         Iterations 6\n",
      "Optimization terminated successfully.\n",
      "         Current function value: 0.680950\n",
      "         Iterations 5\n",
      "Optimization terminated successfully.\n",
      "         Current function value: 0.682500\n",
      "         Iterations 5\n",
      "Optimization terminated successfully.\n",
      "         Current function value: 0.682501\n",
      "         Iterations 5\n",
      "Optimization terminated successfully.\n",
      "         Current function value: 0.682366\n",
      "         Iterations 5\n",
      "Optimization terminated successfully.\n",
      "         Current function value: 0.682403\n",
      "         Iterations 5\n",
      "Optimization terminated successfully.\n",
      "         Current function value: 0.682500\n",
      "         Iterations 5\n",
      "Optimization terminated successfully.\n",
      "         Current function value: 0.682500\n",
      "         Iterations 5\n",
      "Optimization terminated successfully.\n",
      "         Current function value: 0.682488\n",
      "         Iterations 6\n",
      "Optimization terminated successfully.\n",
      "         Current function value: 0.680966\n",
      "         Iterations 5\n",
      "Optimization terminated successfully.\n",
      "         Current function value: 0.680961\n",
      "         Iterations 5\n",
      "Optimization terminated successfully.\n",
      "         Current function value: 0.680963\n",
      "         Iterations 5\n",
      "Optimization terminated successfully.\n",
      "         Current function value: 0.680070\n",
      "         Iterations 5\n",
      "Optimization terminated successfully.\n",
      "         Current function value: 0.679593\n",
      "         Iterations 5\n",
      "Optimization terminated successfully.\n",
      "         Current function value: 0.679580\n",
      "         Iterations 5\n",
      "Optimization terminated successfully.\n",
      "         Current function value: 0.678799\n",
      "         Iterations 6\n",
      "Optimization terminated successfully.\n",
      "         Current function value: 0.680331\n",
      "         Iterations 5\n",
      "Optimization terminated successfully.\n",
      "         Current function value: 0.680965\n",
      "         Iterations 5\n",
      "Optimization terminated successfully.\n",
      "         Current function value: 0.680961\n",
      "         Iterations 5\n",
      "Optimization terminated successfully.\n",
      "         Current function value: 0.680866\n",
      "         Iterations 5\n",
      "Optimization terminated successfully.\n",
      "         Current function value: 0.680866\n",
      "         Iterations 5\n",
      "Optimization terminated successfully.\n",
      "         Current function value: 0.680881\n",
      "         Iterations 5\n",
      "Optimization terminated successfully.\n",
      "         Current function value: 0.680963\n",
      "         Iterations 5\n",
      "Optimization terminated successfully.\n",
      "         Current function value: 0.680955\n",
      "         Iterations 6\n",
      "Optimization terminated successfully.\n",
      "         Current function value: 0.678799\n",
      "         Iterations 6\n",
      "Optimization terminated successfully.\n",
      "         Current function value: 0.678797\n",
      "         Iterations 6\n",
      "Optimization terminated successfully.\n",
      "         Current function value: 0.678288\n",
      "         Iterations 6\n",
      "Optimization terminated successfully.\n",
      "         Current function value: 0.678796\n",
      "         Iterations 6\n",
      "Optimization terminated successfully.\n",
      "         Current function value: 0.678798\n",
      "         Iterations 6\n",
      "Optimization terminated successfully.\n",
      "         Current function value: 0.678784\n",
      "         Iterations 6\n",
      "Optimization terminated successfully.\n",
      "         Current function value: 0.678000\n",
      "         Iterations 6\n",
      "Optimization terminated successfully.\n",
      "         Current function value: 0.677553\n",
      "         Iterations 6\n",
      "Optimization terminated successfully.\n",
      "         Current function value: 0.678726\n",
      "         Iterations 6\n",
      "Optimization terminated successfully.\n",
      "         Current function value: 0.678701\n",
      "         Iterations 6\n",
      "Optimization terminated successfully.\n",
      "         Current function value: 0.678733\n",
      "         Iterations 6\n",
      "Optimization terminated successfully.\n",
      "         Current function value: 0.677540\n",
      "         Iterations 6\n",
      "Optimization terminated successfully.\n",
      "         Current function value: 0.678791\n",
      "         Iterations 6\n",
      "Optimization terminated successfully.\n",
      "         Current function value: 0.678790\n",
      "         Iterations 6\n",
      "Optimization terminated successfully.\n",
      "         Current function value: 0.677540\n",
      "         Iterations 6\n",
      "Optimization terminated successfully.\n",
      "         Current function value: 0.677303\n",
      "         Iterations 6\n",
      "Optimization terminated successfully.\n",
      "         Current function value: 0.676982\n",
      "         Iterations 6\n",
      "Optimization terminated successfully.\n",
      "         Current function value: 0.677536\n",
      "         Iterations 6\n",
      "Optimization terminated successfully.\n",
      "         Current function value: 0.677539\n",
      "         Iterations 6\n",
      "Optimization terminated successfully.\n",
      "         Current function value: 0.677532\n",
      "         Iterations 6\n",
      "Optimization terminated successfully.\n",
      "         Current function value: 0.677036\n",
      "         Iterations 6\n",
      "Optimization terminated successfully.\n",
      "         Current function value: 0.677405\n",
      "         Iterations 6\n",
      "Optimization terminated successfully.\n",
      "         Current function value: 0.677540\n",
      "         Iterations 6\n",
      "Optimization terminated successfully.\n",
      "         Current function value: 0.677439\n",
      "         Iterations 6\n",
      "Optimization terminated successfully.\n",
      "         Current function value: 0.677501\n",
      "         Iterations 6\n",
      "Optimization terminated successfully.\n",
      "         Current function value: 0.677538\n",
      "         Iterations 6\n",
      "Optimization terminated successfully.\n",
      "         Current function value: 0.677532\n",
      "         Iterations 6\n",
      "Optimization terminated successfully.\n",
      "         Current function value: 0.676982\n",
      "         Iterations 6\n",
      "Optimization terminated successfully.\n",
      "         Current function value: 0.676842\n",
      "         Iterations 6\n",
      "Optimization terminated successfully.\n",
      "         Current function value: 0.676962\n",
      "         Iterations 6\n",
      "Optimization terminated successfully.\n",
      "         Current function value: 0.676981\n",
      "         Iterations 6\n",
      "Optimization terminated successfully.\n",
      "         Current function value: 0.676979\n",
      "         Iterations 6\n",
      "Optimization terminated successfully.\n",
      "         Current function value: 0.676473\n",
      "         Iterations 6\n",
      "Optimization terminated successfully.\n",
      "         Current function value: 0.676851\n",
      "         Iterations 6\n",
      "Optimization terminated successfully.\n",
      "         Current function value: 0.676982\n",
      "         Iterations 6\n",
      "Optimization terminated successfully.\n",
      "         Current function value: 0.676882\n",
      "         Iterations 6\n",
      "Optimization terminated successfully.\n",
      "         Current function value: 0.676954\n",
      "         Iterations 6\n",
      "Optimization terminated successfully.\n",
      "         Current function value: 0.676981\n",
      "         Iterations 6\n",
      "Optimization terminated successfully.\n",
      "         Current function value: 0.676975\n",
      "         Iterations 6\n",
      "Optimization terminated successfully.\n",
      "         Current function value: 0.676473\n",
      "         Iterations 6\n",
      "Optimization terminated successfully.\n",
      "         Current function value: 0.676328\n",
      "         Iterations 6\n",
      "Optimization terminated successfully.\n",
      "         Current function value: 0.676450\n",
      "         Iterations 6\n",
      "Optimization terminated successfully.\n",
      "         Current function value: 0.676472\n",
      "         Iterations 6\n",
      "Optimization terminated successfully.\n",
      "         Current function value: 0.676471\n",
      "         Iterations 6\n",
      "Optimization terminated successfully.\n",
      "         Current function value: 0.676345\n",
      "         Iterations 6\n",
      "Optimization terminated successfully.\n",
      "         Current function value: 0.676473\n",
      "         Iterations 6\n",
      "Optimization terminated successfully.\n",
      "         Current function value: 0.676370\n",
      "         Iterations 6\n",
      "Optimization terminated successfully.\n",
      "         Current function value: 0.676448\n",
      "         Iterations 6\n",
      "Optimization terminated successfully.\n",
      "         Current function value: 0.676473\n",
      "         Iterations 6\n",
      "Optimization terminated successfully.\n",
      "         Current function value: 0.676466\n",
      "         Iterations 6\n",
      "Optimization terminated successfully.\n",
      "         Current function value: 0.676328\n",
      "         Iterations 6\n",
      "Optimization terminated successfully.\n",
      "         Current function value: 0.676319\n",
      "         Iterations 6\n",
      "Optimization terminated successfully.\n",
      "         Current function value: 0.676327\n",
      "         Iterations 6\n",
      "Optimization terminated successfully.\n",
      "         Current function value: 0.676322\n",
      "         Iterations 6\n",
      "Optimization terminated successfully.\n",
      "         Current function value: 0.676198\n",
      "         Iterations 6\n",
      "Optimization terminated successfully.\n",
      "         Current function value: 0.676315\n",
      "         Iterations 6\n",
      "Optimization terminated successfully.\n",
      "         Current function value: 0.676227\n",
      "         Iterations 6\n",
      "Optimization terminated successfully.\n",
      "         Current function value: 0.676323\n",
      "         Iterations 6\n",
      "Optimization terminated successfully.\n",
      "         Current function value: 0.676328\n",
      "         Iterations 6\n",
      "Optimization terminated successfully.\n",
      "         Current function value: 0.676320\n",
      "         Iterations 6\n",
      "Optimization terminated successfully.\n",
      "         Current function value: 0.676198\n",
      "         Iterations 6\n",
      "Optimization terminated successfully.\n",
      "         Current function value: 0.676189\n",
      "         Iterations 6\n",
      "Optimization terminated successfully.\n",
      "         Current function value: 0.676197\n",
      "         Iterations 6\n",
      "Optimization terminated successfully.\n",
      "         Current function value: 0.676192\n",
      "         Iterations 6\n",
      "Optimization terminated successfully.\n",
      "         Current function value: 0.676183\n",
      "         Iterations 6\n",
      "Optimization terminated successfully.\n",
      "         Current function value: 0.676096\n",
      "         Iterations 6\n",
      "Optimization terminated successfully.\n",
      "         Current function value: 0.676194\n",
      "         Iterations 6\n",
      "Optimization terminated successfully.\n",
      "         Current function value: 0.676198\n",
      "         Iterations 6\n",
      "Optimization terminated successfully.\n",
      "         Current function value: 0.676191\n",
      "         Iterations 6\n",
      "Optimization terminated successfully.\n",
      "         Current function value: 0.676096\n",
      "         Iterations 6\n",
      "Optimization terminated successfully.\n",
      "         Current function value: 0.676087\n",
      "         Iterations 6\n",
      "Optimization terminated successfully.\n",
      "         Current function value: 0.676095\n",
      "         Iterations 6\n",
      "Optimization terminated successfully.\n",
      "         Current function value: 0.676090\n",
      "         Iterations 6\n",
      "Optimization terminated successfully.\n",
      "         Current function value: 0.676081\n",
      "         Iterations 6\n",
      "Optimization terminated successfully.\n",
      "         Current function value: 0.676091\n",
      "         Iterations 6\n",
      "Optimization terminated successfully.\n",
      "         Current function value: 0.676096\n",
      "         Iterations 6\n",
      "Optimization terminated successfully.\n",
      "         Current function value: 0.676089\n",
      "         Iterations 6\n",
      "Optimization terminated successfully.\n",
      "         Current function value: 0.676081\n",
      "         Iterations 6\n",
      "Optimization terminated successfully.\n",
      "         Current function value: 0.676072\n",
      "         Iterations 6\n",
      "Optimization terminated successfully.\n",
      "         Current function value: 0.676080\n",
      "         Iterations 6\n",
      "Optimization terminated successfully.\n",
      "         Current function value: 0.676079\n",
      "         Iterations 6\n",
      "Optimization terminated successfully.\n",
      "         Current function value: 0.676076\n",
      "         Iterations 6\n",
      "Optimization terminated successfully.\n",
      "         Current function value: 0.676081\n",
      "         Iterations 6\n",
      "Optimization terminated successfully.\n",
      "         Current function value: 0.676074\n",
      "         Iterations 6\n",
      "Optimization terminated successfully.\n",
      "         Current function value: 0.676072\n",
      "         Iterations 6\n",
      "Optimization terminated successfully.\n",
      "         Current function value: 0.676071\n",
      "         Iterations 6\n",
      "Optimization terminated successfully.\n",
      "         Current function value: 0.676069\n",
      "         Iterations 6\n",
      "Optimization terminated successfully.\n",
      "         Current function value: 0.676066\n",
      "         Iterations 6\n",
      "Optimization terminated successfully.\n",
      "         Current function value: 0.676071\n",
      "         Iterations 6\n",
      "Optimization terminated successfully.\n",
      "         Current function value: 0.676064\n",
      "         Iterations 6\n",
      "Optimization terminated successfully.\n",
      "         Current function value: 0.676066\n",
      "         Iterations 6\n",
      "Optimization terminated successfully.\n",
      "         Current function value: 0.676065\n",
      "         Iterations 6\n",
      "Optimization terminated successfully.\n",
      "         Current function value: 0.676063\n",
      "         Iterations 6\n",
      "Optimization terminated successfully.\n",
      "         Current function value: 0.676058\n",
      "         Iterations 6\n",
      "Optimization terminated successfully.\n",
      "         Current function value: 0.676066\n",
      "         Iterations 6\n",
      "Optimization terminated successfully.\n",
      "         Current function value: 0.676058\n",
      "         Iterations 6\n",
      "Optimization terminated successfully.\n",
      "         Current function value: 0.676057\n",
      "         Iterations 6\n",
      "Optimization terminated successfully.\n",
      "         Current function value: 0.676055\n",
      "         Iterations 6\n",
      "Optimization terminated successfully.\n",
      "         Current function value: 0.676058\n",
      "         Iterations 6\n"
     ]
    }
   ],
   "source": [
    "# Stepwise Feature Selection:\n",
    "\n",
    "features = stepwise_selection(X_train_res, y_train_res)"
   ]
  },
  {
   "cell_type": "code",
   "execution_count": 158,
   "id": "630bc9d4",
   "metadata": {},
   "outputs": [
    {
     "name": "stdout",
     "output_type": "stream",
     "text": [
      "['wandown_cnt', 'CountWIFICases', 'max_assoc_dev', 'CountCases', 'max_uptime_hr', 'maxrssi', 'lanwpktdrop_5g', 'obs_count', 'max_uptime_days', 'lanpwr_below100', 'min_uptime_hr', 'minrssi', 'channel_change', 'avg_lanwpkterred_5g']\n"
     ]
    }
   ],
   "source": [
    "print(features)"
   ]
  },
  {
   "cell_type": "code",
   "execution_count": 159,
   "id": "c35d45c4",
   "metadata": {},
   "outputs": [],
   "source": [
    "# Reducing training and test set to the selected features:\n",
    "\n",
    "re_X_train_res = X_train_res[features]\n",
    "re_X_test_res = X_test_res[features]"
   ]
  },
  {
   "cell_type": "code",
   "execution_count": 160,
   "id": "43514c79",
   "metadata": {},
   "outputs": [
    {
     "data": {
      "text/html": [
       "<div>\n",
       "<style scoped>\n",
       "    .dataframe tbody tr th:only-of-type {\n",
       "        vertical-align: middle;\n",
       "    }\n",
       "\n",
       "    .dataframe tbody tr th {\n",
       "        vertical-align: top;\n",
       "    }\n",
       "\n",
       "    .dataframe thead th {\n",
       "        text-align: right;\n",
       "    }\n",
       "</style>\n",
       "<table border=\"1\" class=\"dataframe\">\n",
       "  <thead>\n",
       "    <tr style=\"text-align: right;\">\n",
       "      <th></th>\n",
       "      <th>VIF Factor</th>\n",
       "      <th>features</th>\n",
       "    </tr>\n",
       "  </thead>\n",
       "  <tbody>\n",
       "    <tr>\n",
       "      <th>0</th>\n",
       "      <td>1.7</td>\n",
       "      <td>wandown_cnt</td>\n",
       "    </tr>\n",
       "    <tr>\n",
       "      <th>1</th>\n",
       "      <td>1.2</td>\n",
       "      <td>CountWIFICases</td>\n",
       "    </tr>\n",
       "    <tr>\n",
       "      <th>2</th>\n",
       "      <td>4.4</td>\n",
       "      <td>max_assoc_dev</td>\n",
       "    </tr>\n",
       "    <tr>\n",
       "      <th>3</th>\n",
       "      <td>1.8</td>\n",
       "      <td>CountCases</td>\n",
       "    </tr>\n",
       "    <tr>\n",
       "      <th>4</th>\n",
       "      <td>25654.1</td>\n",
       "      <td>max_uptime_hr</td>\n",
       "    </tr>\n",
       "    <tr>\n",
       "      <th>5</th>\n",
       "      <td>116.7</td>\n",
       "      <td>maxrssi</td>\n",
       "    </tr>\n",
       "    <tr>\n",
       "      <th>6</th>\n",
       "      <td>1.2</td>\n",
       "      <td>lanwpktdrop_5g</td>\n",
       "    </tr>\n",
       "    <tr>\n",
       "      <th>7</th>\n",
       "      <td>23.5</td>\n",
       "      <td>obs_count</td>\n",
       "    </tr>\n",
       "    <tr>\n",
       "      <th>8</th>\n",
       "      <td>25153.2</td>\n",
       "      <td>max_uptime_days</td>\n",
       "    </tr>\n",
       "    <tr>\n",
       "      <th>9</th>\n",
       "      <td>1.0</td>\n",
       "      <td>lanpwr_below100</td>\n",
       "    </tr>\n",
       "    <tr>\n",
       "      <th>10</th>\n",
       "      <td>1.2</td>\n",
       "      <td>min_uptime_hr</td>\n",
       "    </tr>\n",
       "    <tr>\n",
       "      <th>11</th>\n",
       "      <td>83.9</td>\n",
       "      <td>minrssi</td>\n",
       "    </tr>\n",
       "    <tr>\n",
       "      <th>12</th>\n",
       "      <td>4.2</td>\n",
       "      <td>channel_change</td>\n",
       "    </tr>\n",
       "    <tr>\n",
       "      <th>13</th>\n",
       "      <td>1.0</td>\n",
       "      <td>avg_lanwpkterred_5g</td>\n",
       "    </tr>\n",
       "  </tbody>\n",
       "</table>\n",
       "</div>"
      ],
      "text/plain": [
       "    VIF Factor             features\n",
       "0          1.7          wandown_cnt\n",
       "1          1.2       CountWIFICases\n",
       "2          4.4        max_assoc_dev\n",
       "3          1.8           CountCases\n",
       "4      25654.1        max_uptime_hr\n",
       "5        116.7              maxrssi\n",
       "6          1.2       lanwpktdrop_5g\n",
       "7         23.5            obs_count\n",
       "8      25153.2      max_uptime_days\n",
       "9          1.0      lanpwr_below100\n",
       "10         1.2        min_uptime_hr\n",
       "11        83.9              minrssi\n",
       "12         4.2       channel_change\n",
       "13         1.0  avg_lanwpkterred_5g"
      ]
     },
     "execution_count": 160,
     "metadata": {},
     "output_type": "execute_result"
    }
   ],
   "source": [
    "# Calculating VIF for the reduced features:\n",
    "\n",
    "vif = pd.DataFrame()\n",
    "vif[\"VIF Factor\"] = [variance_inflation_factor(re_X_train_res.values, i) for i in range(re_X_train_res.shape[1])]\n",
    "vif[\"features\"] = re_X_train_res.columns\n",
    "\n",
    "vif.round(1)"
   ]
  },
  {
   "cell_type": "code",
   "execution_count": 161,
   "id": "aa46eeb2",
   "metadata": {},
   "outputs": [
    {
     "name": "stdout",
     "output_type": "stream",
     "text": [
      "The accuracy score is: 0.576\n"
     ]
    },
    {
     "name": "stderr",
     "output_type": "stream",
     "text": [
      "C:\\Users\\Asus\\anaconda3\\lib\\site-packages\\sklearn\\linear_model\\_logistic.py:444: ConvergenceWarning: lbfgs failed to converge (status=1):\n",
      "STOP: TOTAL NO. of ITERATIONS REACHED LIMIT.\n",
      "\n",
      "Increase the number of iterations (max_iter) or scale the data as shown in:\n",
      "    https://scikit-learn.org/stable/modules/preprocessing.html\n",
      "Please also refer to the documentation for alternative solver options:\n",
      "    https://scikit-learn.org/stable/modules/linear_model.html#logistic-regression\n",
      "  n_iter_i = _check_optimize_result(\n"
     ]
    }
   ],
   "source": [
    "#Creating the reduced model: \n",
    "\n",
    "logreg2 = LogisticRegression().fit(re_X_train_res, y_train_res)\n",
    "\n",
    "print('The accuracy score is: %.3f' % accuracy_score(y_train_res, logreg2.predict(re_X_train_res)))"
   ]
  },
  {
   "cell_type": "code",
   "execution_count": 162,
   "id": "5a53bf50",
   "metadata": {},
   "outputs": [
    {
     "data": {
      "text/plain": [
       "array([[ -0.52, -10.33,   1.54,   6.48,  -0.92,   0.97,  -1.79,   0.19,\n",
       "         -0.59,   1.44,   0.56,  -0.15,   0.11,  -0.21]])"
      ]
     },
     "execution_count": 162,
     "metadata": {},
     "output_type": "execute_result"
    }
   ],
   "source": [
    "# New variables' coeficients:\n",
    "\n",
    "np.round(logreg2.coef_, 2)"
   ]
  },
  {
   "cell_type": "code",
   "execution_count": 163,
   "id": "eb4e2ca8",
   "metadata": {},
   "outputs": [
    {
     "data": {
      "text/plain": [
       "array([-0.64])"
      ]
     },
     "execution_count": 163,
     "metadata": {},
     "output_type": "execute_result"
    }
   ],
   "source": [
    "np.round(logreg2.intercept_, 2)"
   ]
  },
  {
   "cell_type": "code",
   "execution_count": 164,
   "id": "85430027",
   "metadata": {},
   "outputs": [
    {
     "name": "stdout",
     "output_type": "stream",
     "text": [
      "The accuracy score is: 0.568\n"
     ]
    }
   ],
   "source": [
    "# Model scores with the test datapoints:\n",
    "\n",
    "print('The accuracy score is: %.3f' % accuracy_score(y_test_res, logreg2.predict(re_X_test_res)))"
   ]
  },
  {
   "cell_type": "code",
   "execution_count": 165,
   "id": "c2405795",
   "metadata": {},
   "outputs": [
    {
     "data": {
      "text/plain": [
       "array([1, 0, 0, ..., 1, 1, 0], dtype=int64)"
      ]
     },
     "execution_count": 165,
     "metadata": {},
     "output_type": "execute_result"
    }
   ],
   "source": [
    "y_pred_test_res = logreg2.predict(re_X_test_res)\n",
    "\n",
    "y_pred_test_res"
   ]
  },
  {
   "cell_type": "markdown",
   "id": "7435307f",
   "metadata": {},
   "source": [
    "## Confusion Matrix"
   ]
  },
  {
   "cell_type": "code",
   "execution_count": 166,
   "id": "71448545",
   "metadata": {},
   "outputs": [
    {
     "name": "stdout",
     "output_type": "stream",
     "text": [
      "Confusion matrix\n",
      "\n",
      " [[31776 31338]\n",
      " [23139 39975]]\n",
      "\n",
      "True Positives(TP) =  31776\n",
      "\n",
      "True Negatives(TN) =  39975\n",
      "\n",
      "False Positives(FP) =  31338\n",
      "\n",
      "False Negatives(FN) =  23139\n"
     ]
    }
   ],
   "source": [
    "# Print the Confusion Matrix and slice it into four pieces\n",
    "\n",
    "from sklearn.metrics import confusion_matrix\n",
    "\n",
    "cm = confusion_matrix(y_test_res, y_pred_test_res)\n",
    "\n",
    "print('Confusion matrix\\n\\n', cm)\n",
    "\n",
    "print('\\nTrue Positives(TP) = ', cm[0,0])\n",
    "\n",
    "print('\\nTrue Negatives(TN) = ', cm[1,1])\n",
    "\n",
    "print('\\nFalse Positives(FP) = ', cm[0,1])\n",
    "\n",
    "print('\\nFalse Negatives(FN) = ', cm[1,0])"
   ]
  },
  {
   "cell_type": "code",
   "execution_count": 167,
   "id": "5bc7de6f",
   "metadata": {},
   "outputs": [
    {
     "data": {
      "text/plain": [
       "<AxesSubplot:>"
      ]
     },
     "execution_count": 167,
     "metadata": {},
     "output_type": "execute_result"
    },
    {
     "data": {
      "image/png": "[encoded data removed]",
      "text/plain": [
       "<Figure size 432x288 with 2 Axes>"
      ]
     },
     "metadata": {
      "needs_background": "light"
     },
     "output_type": "display_data"
    }
   ],
   "source": [
    "# visualize confusion matrix with seaborn heatmap\n",
    "\n",
    "cm_matrix = pd.DataFrame(data=cm, columns=['Actual Positive:1', 'Actual Negative:0'], \n",
    "                                 index=['Predict Positive:1', 'Predict Negative:0'])\n",
    "\n",
    "sns.heatmap(cm_matrix, annot=True, fmt='d', cmap='YlGnBu')"
   ]
  },
  {
   "cell_type": "markdown",
   "id": "895f5a82",
   "metadata": {},
   "source": [
    "## Classification Report"
   ]
  },
  {
   "cell_type": "code",
   "execution_count": 168,
   "id": "264ac265",
   "metadata": {},
   "outputs": [
    {
     "name": "stdout",
     "output_type": "stream",
     "text": [
      "              precision    recall  f1-score   support\n",
      "\n",
      "           0       0.58      0.50      0.54     63114\n",
      "           1       0.56      0.63      0.59     63114\n",
      "\n",
      "    accuracy                           0.57    126228\n",
      "   macro avg       0.57      0.57      0.57    126228\n",
      "weighted avg       0.57      0.57      0.57    126228\n",
      "\n"
     ]
    }
   ],
   "source": [
    "from sklearn.metrics import classification_report\n",
    "\n",
    "print(classification_report(y_test_res, logreg2.predict(re_X_test_res)))"
   ]
  },
  {
   "cell_type": "code",
   "execution_count": 169,
   "id": "759f547d",
   "metadata": {},
   "outputs": [],
   "source": [
    "TP = cm[0,0]\n",
    "TN = cm[1,1]\n",
    "FP = cm[0,1]\n",
    "FN = cm[1,0]"
   ]
  },
  {
   "cell_type": "code",
   "execution_count": 170,
   "id": "03fb8b5d",
   "metadata": {},
   "outputs": [
    {
     "name": "stdout",
     "output_type": "stream",
     "text": [
      "Classification accuracy : 0.5684\n"
     ]
    }
   ],
   "source": [
    "# print classification accuracy\n",
    "\n",
    "classification_accuracy = (TP + TN) / float(TP + TN + FP + FN)\n",
    "\n",
    "print('Classification accuracy : {0:0.4f}'.format(classification_accuracy))"
   ]
  },
  {
   "cell_type": "code",
   "execution_count": 171,
   "id": "53ad4f34",
   "metadata": {},
   "outputs": [
    {
     "name": "stdout",
     "output_type": "stream",
     "text": [
      "Classification error : 0.4316\n"
     ]
    }
   ],
   "source": [
    "# print classification error\n",
    "\n",
    "classification_error = (FP + FN) / float(TP + TN + FP + FN)\n",
    "\n",
    "print('Classification error : {0:0.4f}'.format(classification_error))"
   ]
  },
  {
   "cell_type": "code",
   "execution_count": 172,
   "id": "65a41d2a",
   "metadata": {},
   "outputs": [
    {
     "name": "stdout",
     "output_type": "stream",
     "text": [
      "Precision : 0.5035\n"
     ]
    }
   ],
   "source": [
    "# print precision score\n",
    "\n",
    "precision = TP / float(TP + FP)\n",
    "\n",
    "print('Precision : {0:0.4f}'.format(precision))"
   ]
  },
  {
   "cell_type": "code",
   "execution_count": 173,
   "id": "4a00a836",
   "metadata": {},
   "outputs": [
    {
     "name": "stdout",
     "output_type": "stream",
     "text": [
      "Recall or Sensitivity : 0.5786\n"
     ]
    }
   ],
   "source": [
    "recall = TP / float(TP + FN)\n",
    "\n",
    "print('Recall or Sensitivity : {0:0.4f}'.format(recall))"
   ]
  },
  {
   "cell_type": "code",
   "execution_count": 174,
   "id": "ed996525",
   "metadata": {},
   "outputs": [
    {
     "name": "stdout",
     "output_type": "stream",
     "text": [
      "True Positive Rate : 0.5786\n"
     ]
    }
   ],
   "source": [
    "true_positive_rate = TP / float(TP + FN)\n",
    "\n",
    "\n",
    "print('True Positive Rate : {0:0.4f}'.format(true_positive_rate))"
   ]
  },
  {
   "cell_type": "code",
   "execution_count": 175,
   "id": "527a8840",
   "metadata": {},
   "outputs": [
    {
     "name": "stdout",
     "output_type": "stream",
     "text": [
      "False Positive Rate : 0.4394\n"
     ]
    }
   ],
   "source": [
    "false_positive_rate = FP / float(FP + TN)\n",
    "\n",
    "\n",
    "print('False Positive Rate : {0:0.4f}'.format(false_positive_rate))"
   ]
  },
  {
   "cell_type": "code",
   "execution_count": 176,
   "id": "79700385",
   "metadata": {},
   "outputs": [
    {
     "name": "stdout",
     "output_type": "stream",
     "text": [
      "Specificity : 0.5606\n"
     ]
    }
   ],
   "source": [
    "specificity = TN / (TN + FP)\n",
    "\n",
    "print('Specificity : {0:0.4f}'.format(specificity))"
   ]
  },
  {
   "cell_type": "code",
   "execution_count": 177,
   "id": "0de0cd73",
   "metadata": {},
   "outputs": [
    {
     "data": {
      "text/plain": [
       "<AxesSubplot:>"
      ]
     },
     "execution_count": 177,
     "metadata": {},
     "output_type": "execute_result"
    },
    {
     "data": {
      "image/png": "[encoded data removed]",
      "text/plain": [
       "<Figure size 432x288 with 2 Axes>"
      ]
     },
     "metadata": {
      "needs_background": "light"
     },
     "output_type": "display_data"
    }
   ],
   "source": [
    "# visualize confusion matrix with seaborn heatmap\n",
    "\n",
    "cm_matrix = pd.DataFrame(data=cm, columns=['Actual Positive:1', 'Actual Negative:0'], \n",
    "                                 index=['Predict Positive:1', 'Predict Negative:0'])\n",
    "\n",
    "sns.heatmap(cm_matrix, annot=True, fmt='d', cmap='YlOrRd')"
   ]
  },
  {
   "cell_type": "markdown",
   "id": "be5d8862",
   "metadata": {},
   "source": [
    "# Building Model with Undersampling Sample"
   ]
  },
  {
   "cell_type": "markdown",
   "id": "68a6edd9",
   "metadata": {},
   "source": [
    "# Feature Scaling"
   ]
  },
  {
   "cell_type": "code",
   "execution_count": 178,
   "id": "939f497a",
   "metadata": {},
   "outputs": [
    {
     "data": {
      "text/html": [
       "<div>\n",
       "<style scoped>\n",
       "    .dataframe tbody tr th:only-of-type {\n",
       "        vertical-align: middle;\n",
       "    }\n",
       "\n",
       "    .dataframe tbody tr th {\n",
       "        vertical-align: top;\n",
       "    }\n",
       "\n",
       "    .dataframe thead th {\n",
       "        text-align: right;\n",
       "    }\n",
       "</style>\n",
       "<table border=\"1\" class=\"dataframe\">\n",
       "  <thead>\n",
       "    <tr style=\"text-align: right;\">\n",
       "      <th></th>\n",
       "      <th>CountCases</th>\n",
       "      <th>CountWIFICases</th>\n",
       "      <th>obs_count</th>\n",
       "      <th>upgrade_count</th>\n",
       "      <th>max_uptime_days</th>\n",
       "      <th>min_uptime_hr</th>\n",
       "      <th>max_uptime_hr</th>\n",
       "      <th>wandown_cnt</th>\n",
       "      <th>lanwpktdrop</th>\n",
       "      <th>lanwpktdrop_5g</th>\n",
       "      <th>lanpwr_below100</th>\n",
       "      <th>avg_lanwpkterred</th>\n",
       "      <th>avg_lanwpkterred_5g</th>\n",
       "      <th>minrssi</th>\n",
       "      <th>maxrssi</th>\n",
       "      <th>max_assoc_dev</th>\n",
       "      <th>channel_change</th>\n",
       "    </tr>\n",
       "  </thead>\n",
       "  <tbody>\n",
       "    <tr>\n",
       "      <th>count</th>\n",
       "      <td>28284.000000</td>\n",
       "      <td>28284.000000</td>\n",
       "      <td>28284.000000</td>\n",
       "      <td>28284.000000</td>\n",
       "      <td>28284.000000</td>\n",
       "      <td>28284.000000</td>\n",
       "      <td>28284.000000</td>\n",
       "      <td>28284.000000</td>\n",
       "      <td>2.828400e+04</td>\n",
       "      <td>2.828400e+04</td>\n",
       "      <td>28284.000000</td>\n",
       "      <td>2.828400e+04</td>\n",
       "      <td>2.828400e+04</td>\n",
       "      <td>28284.000000</td>\n",
       "      <td>28284.000000</td>\n",
       "      <td>28284.000000</td>\n",
       "      <td>28284.000000</td>\n",
       "    </tr>\n",
       "    <tr>\n",
       "      <th>mean</th>\n",
       "      <td>2.320782</td>\n",
       "      <td>0.102390</td>\n",
       "      <td>38.478681</td>\n",
       "      <td>1.610981</td>\n",
       "      <td>29.350233</td>\n",
       "      <td>20.276517</td>\n",
       "      <td>715.546493</td>\n",
       "      <td>9.491868</td>\n",
       "      <td>6.067579e+05</td>\n",
       "      <td>1.041103e+07</td>\n",
       "      <td>0.043063</td>\n",
       "      <td>4.734318e+04</td>\n",
       "      <td>3.046832e+04</td>\n",
       "      <td>42.942618</td>\n",
       "      <td>72.326934</td>\n",
       "      <td>3.788856</td>\n",
       "      <td>2.106597</td>\n",
       "    </tr>\n",
       "    <tr>\n",
       "      <th>std</th>\n",
       "      <td>3.393344</td>\n",
       "      <td>0.412369</td>\n",
       "      <td>19.564516</td>\n",
       "      <td>0.512911</td>\n",
       "      <td>20.843306</td>\n",
       "      <td>72.000587</td>\n",
       "      <td>500.390058</td>\n",
       "      <td>19.511473</td>\n",
       "      <td>2.201735e+07</td>\n",
       "      <td>5.427163e+07</td>\n",
       "      <td>1.410904</td>\n",
       "      <td>4.528549e+06</td>\n",
       "      <td>1.597430e+06</td>\n",
       "      <td>14.740864</td>\n",
       "      <td>14.393380</td>\n",
       "      <td>3.341255</td>\n",
       "      <td>0.808364</td>\n",
       "    </tr>\n",
       "    <tr>\n",
       "      <th>min</th>\n",
       "      <td>0.000000</td>\n",
       "      <td>0.000000</td>\n",
       "      <td>1.000000</td>\n",
       "      <td>1.000000</td>\n",
       "      <td>0.000000</td>\n",
       "      <td>0.000000</td>\n",
       "      <td>0.000000</td>\n",
       "      <td>0.000000</td>\n",
       "      <td>0.000000e+00</td>\n",
       "      <td>0.000000e+00</td>\n",
       "      <td>0.000000</td>\n",
       "      <td>0.000000e+00</td>\n",
       "      <td>0.000000e+00</td>\n",
       "      <td>1.000000</td>\n",
       "      <td>1.000000</td>\n",
       "      <td>0.000000</td>\n",
       "      <td>1.000000</td>\n",
       "    </tr>\n",
       "    <tr>\n",
       "      <th>25%</th>\n",
       "      <td>0.000000</td>\n",
       "      <td>0.000000</td>\n",
       "      <td>25.000000</td>\n",
       "      <td>1.000000</td>\n",
       "      <td>12.000000</td>\n",
       "      <td>1.000000</td>\n",
       "      <td>299.000000</td>\n",
       "      <td>0.000000</td>\n",
       "      <td>0.000000e+00</td>\n",
       "      <td>1.440000e+03</td>\n",
       "      <td>0.000000</td>\n",
       "      <td>0.000000e+00</td>\n",
       "      <td>6.100000e+01</td>\n",
       "      <td>33.000000</td>\n",
       "      <td>64.000000</td>\n",
       "      <td>1.000000</td>\n",
       "      <td>1.000000</td>\n",
       "    </tr>\n",
       "    <tr>\n",
       "      <th>50%</th>\n",
       "      <td>1.000000</td>\n",
       "      <td>0.000000</td>\n",
       "      <td>47.000000</td>\n",
       "      <td>2.000000</td>\n",
       "      <td>27.000000</td>\n",
       "      <td>6.000000</td>\n",
       "      <td>670.000000</td>\n",
       "      <td>0.000000</td>\n",
       "      <td>0.000000e+00</td>\n",
       "      <td>6.934000e+04</td>\n",
       "      <td>0.000000</td>\n",
       "      <td>0.000000e+00</td>\n",
       "      <td>3.330000e+02</td>\n",
       "      <td>42.000000</td>\n",
       "      <td>75.000000</td>\n",
       "      <td>3.000000</td>\n",
       "      <td>2.000000</td>\n",
       "    </tr>\n",
       "    <tr>\n",
       "      <th>75%</th>\n",
       "      <td>3.000000</td>\n",
       "      <td>0.000000</td>\n",
       "      <td>54.000000</td>\n",
       "      <td>2.000000</td>\n",
       "      <td>44.000000</td>\n",
       "      <td>16.000000</td>\n",
       "      <td>1062.000000</td>\n",
       "      <td>1.000000</td>\n",
       "      <td>1.044000e+04</td>\n",
       "      <td>2.625294e+06</td>\n",
       "      <td>0.000000</td>\n",
       "      <td>4.930000e+02</td>\n",
       "      <td>1.630000e+03</td>\n",
       "      <td>52.000000</td>\n",
       "      <td>84.000000</td>\n",
       "      <td>5.000000</td>\n",
       "      <td>3.000000</td>\n",
       "    </tr>\n",
       "    <tr>\n",
       "      <th>max</th>\n",
       "      <td>76.000000</td>\n",
       "      <td>12.000000</td>\n",
       "      <td>61.000000</td>\n",
       "      <td>3.000000</td>\n",
       "      <td>177.000000</td>\n",
       "      <td>2254.000000</td>\n",
       "      <td>4248.000000</td>\n",
       "      <td>61.000000</td>\n",
       "      <td>2.147484e+09</td>\n",
       "      <td>2.147484e+09</td>\n",
       "      <td>59.000000</td>\n",
       "      <td>7.527602e+08</td>\n",
       "      <td>1.926220e+08</td>\n",
       "      <td>94.000000</td>\n",
       "      <td>95.000000</td>\n",
       "      <td>45.000000</td>\n",
       "      <td>10.000000</td>\n",
       "    </tr>\n",
       "  </tbody>\n",
       "</table>\n",
       "</div>"
      ],
      "text/plain": [
       "         CountCases  CountWIFICases     obs_count  upgrade_count  \\\n",
       "count  28284.000000    28284.000000  28284.000000   28284.000000   \n",
       "mean       2.320782        0.102390     38.478681       1.610981   \n",
       "std        3.393344        0.412369     19.564516       0.512911   \n",
       "min        0.000000        0.000000      1.000000       1.000000   \n",
       "25%        0.000000        0.000000     25.000000       1.000000   \n",
       "50%        1.000000        0.000000     47.000000       2.000000   \n",
       "75%        3.000000        0.000000     54.000000       2.000000   \n",
       "max       76.000000       12.000000     61.000000       3.000000   \n",
       "\n",
       "       max_uptime_days  min_uptime_hr  max_uptime_hr   wandown_cnt  \\\n",
       "count     28284.000000   28284.000000   28284.000000  28284.000000   \n",
       "mean         29.350233      20.276517     715.546493      9.491868   \n",
       "std          20.843306      72.000587     500.390058     19.511473   \n",
       "min           0.000000       0.000000       0.000000      0.000000   \n",
       "25%          12.000000       1.000000     299.000000      0.000000   \n",
       "50%          27.000000       6.000000     670.000000      0.000000   \n",
       "75%          44.000000      16.000000    1062.000000      1.000000   \n",
       "max         177.000000    2254.000000    4248.000000     61.000000   \n",
       "\n",
       "        lanwpktdrop  lanwpktdrop_5g  lanpwr_below100  avg_lanwpkterred  \\\n",
       "count  2.828400e+04    2.828400e+04     28284.000000      2.828400e+04   \n",
       "mean   6.067579e+05    1.041103e+07         0.043063      4.734318e+04   \n",
       "std    2.201735e+07    5.427163e+07         1.410904      4.528549e+06   \n",
       "min    0.000000e+00    0.000000e+00         0.000000      0.000000e+00   \n",
       "25%    0.000000e+00    1.440000e+03         0.000000      0.000000e+00   \n",
       "50%    0.000000e+00    6.934000e+04         0.000000      0.000000e+00   \n",
       "75%    1.044000e+04    2.625294e+06         0.000000      4.930000e+02   \n",
       "max    2.147484e+09    2.147484e+09        59.000000      7.527602e+08   \n",
       "\n",
       "       avg_lanwpkterred_5g       minrssi       maxrssi  max_assoc_dev  \\\n",
       "count         2.828400e+04  28284.000000  28284.000000   28284.000000   \n",
       "mean          3.046832e+04     42.942618     72.326934       3.788856   \n",
       "std           1.597430e+06     14.740864     14.393380       3.341255   \n",
       "min           0.000000e+00      1.000000      1.000000       0.000000   \n",
       "25%           6.100000e+01     33.000000     64.000000       1.000000   \n",
       "50%           3.330000e+02     42.000000     75.000000       3.000000   \n",
       "75%           1.630000e+03     52.000000     84.000000       5.000000   \n",
       "max           1.926220e+08     94.000000     95.000000      45.000000   \n",
       "\n",
       "       channel_change  \n",
       "count    28284.000000  \n",
       "mean         2.106597  \n",
       "std          0.808364  \n",
       "min          1.000000  \n",
       "25%          1.000000  \n",
       "50%          2.000000  \n",
       "75%          3.000000  \n",
       "max         10.000000  "
      ]
     },
     "execution_count": 178,
     "metadata": {},
     "output_type": "execute_result"
    }
   ],
   "source": [
    "X_train_miss.describe()"
   ]
  },
  {
   "cell_type": "code",
   "execution_count": 179,
   "id": "f16b2e28",
   "metadata": {},
   "outputs": [],
   "source": [
    "# Normalizing the features\n",
    "\n",
    "from sklearn.preprocessing import MinMaxScaler\n",
    "\n",
    "index_train_miss = X_train_miss.index\n",
    "index_test_miss = X_test_miss.index\n",
    "\n",
    "n_scaler = MinMaxScaler()\n",
    "X_train_miss = pd.DataFrame(n_scaler.fit_transform(X_train_miss), index=index_train_miss,columns=X_train_miss.columns)\n",
    "X_test_miss = pd.DataFrame(n_scaler.transform(X_test_miss), index=index_test_miss,columns=X_test_miss.columns)"
   ]
  },
  {
   "cell_type": "markdown",
   "id": "775e528d",
   "metadata": {},
   "source": [
    "#### now i have X_train dataset ready to be fed into the Logistic Regression classifier"
   ]
  },
  {
   "cell_type": "markdown",
   "id": "f5a0b505",
   "metadata": {},
   "source": [
    "## Training Model"
   ]
  },
  {
   "cell_type": "code",
   "execution_count": 182,
   "id": "5ead6555",
   "metadata": {},
   "outputs": [],
   "source": [
    "# train a logistic regression model on the training set\n",
    "from sklearn.linear_model import LogisticRegression\n",
    "\n",
    "\n",
    "# instantiate the model\n",
    "logreg3 = LogisticRegression(solver='liblinear', random_state=42).fit(X_train_miss, y_train_miss)\n"
   ]
  },
  {
   "cell_type": "markdown",
   "id": "168bd5cd",
   "metadata": {},
   "source": [
    "## Result Prediction "
   ]
  },
  {
   "cell_type": "code",
   "execution_count": 183,
   "id": "fece6961",
   "metadata": {},
   "outputs": [
    {
     "data": {
      "text/plain": [
       "array([1, 0, 0, ..., 1, 1, 1], dtype=int64)"
      ]
     },
     "execution_count": 183,
     "metadata": {},
     "output_type": "execute_result"
    }
   ],
   "source": [
    "y_pred_test_miss = logreg3.predict(X_test_miss)\n",
    "\n",
    "y_pred_test_miss"
   ]
  },
  {
   "cell_type": "markdown",
   "id": "9b32a04d",
   "metadata": {},
   "source": [
    "## Accuracy Score"
   ]
  },
  {
   "cell_type": "code",
   "execution_count": 184,
   "id": "03d7880e",
   "metadata": {},
   "outputs": [
    {
     "name": "stdout",
     "output_type": "stream",
     "text": [
      "The accuracy score is: 0.745\n"
     ]
    }
   ],
   "source": [
    "from sklearn.metrics import accuracy_score\n",
    "\n",
    "print('The accuracy score is: %.3f' % accuracy_score(y_train_miss, logreg3.predict(X_train_miss)))"
   ]
  },
  {
   "cell_type": "code",
   "execution_count": 185,
   "id": "5fead8a2",
   "metadata": {},
   "outputs": [
    {
     "data": {
      "text/html": [
       "<div>\n",
       "<style scoped>\n",
       "    .dataframe tbody tr th:only-of-type {\n",
       "        vertical-align: middle;\n",
       "    }\n",
       "\n",
       "    .dataframe tbody tr th {\n",
       "        vertical-align: top;\n",
       "    }\n",
       "\n",
       "    .dataframe thead th {\n",
       "        text-align: right;\n",
       "    }\n",
       "</style>\n",
       "<table border=\"1\" class=\"dataframe\">\n",
       "  <thead>\n",
       "    <tr style=\"text-align: right;\">\n",
       "      <th></th>\n",
       "      <th>VIF Factor</th>\n",
       "      <th>features</th>\n",
       "    </tr>\n",
       "  </thead>\n",
       "  <tbody>\n",
       "    <tr>\n",
       "      <th>0</th>\n",
       "      <td>1.8</td>\n",
       "      <td>CountCases</td>\n",
       "    </tr>\n",
       "    <tr>\n",
       "      <th>1</th>\n",
       "      <td>1.3</td>\n",
       "      <td>CountWIFICases</td>\n",
       "    </tr>\n",
       "    <tr>\n",
       "      <th>2</th>\n",
       "      <td>13.3</td>\n",
       "      <td>obs_count</td>\n",
       "    </tr>\n",
       "    <tr>\n",
       "      <th>3</th>\n",
       "      <td>3.6</td>\n",
       "      <td>upgrade_count</td>\n",
       "    </tr>\n",
       "    <tr>\n",
       "      <th>4</th>\n",
       "      <td>13946.7</td>\n",
       "      <td>max_uptime_days</td>\n",
       "    </tr>\n",
       "    <tr>\n",
       "      <th>5</th>\n",
       "      <td>1.3</td>\n",
       "      <td>min_uptime_hr</td>\n",
       "    </tr>\n",
       "    <tr>\n",
       "      <th>6</th>\n",
       "      <td>14241.8</td>\n",
       "      <td>max_uptime_hr</td>\n",
       "    </tr>\n",
       "    <tr>\n",
       "      <th>7</th>\n",
       "      <td>1.4</td>\n",
       "      <td>wandown_cnt</td>\n",
       "    </tr>\n",
       "    <tr>\n",
       "      <th>8</th>\n",
       "      <td>1.0</td>\n",
       "      <td>lanwpktdrop</td>\n",
       "    </tr>\n",
       "    <tr>\n",
       "      <th>9</th>\n",
       "      <td>1.1</td>\n",
       "      <td>lanwpktdrop_5g</td>\n",
       "    </tr>\n",
       "    <tr>\n",
       "      <th>10</th>\n",
       "      <td>1.0</td>\n",
       "      <td>lanpwr_below100</td>\n",
       "    </tr>\n",
       "    <tr>\n",
       "      <th>11</th>\n",
       "      <td>1.0</td>\n",
       "      <td>avg_lanwpkterred</td>\n",
       "    </tr>\n",
       "    <tr>\n",
       "      <th>12</th>\n",
       "      <td>1.0</td>\n",
       "      <td>avg_lanwpkterred_5g</td>\n",
       "    </tr>\n",
       "    <tr>\n",
       "      <th>13</th>\n",
       "      <td>10.9</td>\n",
       "      <td>minrssi</td>\n",
       "    </tr>\n",
       "    <tr>\n",
       "      <th>14</th>\n",
       "      <td>25.6</td>\n",
       "      <td>maxrssi</td>\n",
       "    </tr>\n",
       "    <tr>\n",
       "      <th>15</th>\n",
       "      <td>3.7</td>\n",
       "      <td>max_assoc_dev</td>\n",
       "    </tr>\n",
       "    <tr>\n",
       "      <th>16</th>\n",
       "      <td>3.7</td>\n",
       "      <td>channel_change</td>\n",
       "    </tr>\n",
       "  </tbody>\n",
       "</table>\n",
       "</div>"
      ],
      "text/plain": [
       "    VIF Factor             features\n",
       "0          1.8           CountCases\n",
       "1          1.3       CountWIFICases\n",
       "2         13.3            obs_count\n",
       "3          3.6        upgrade_count\n",
       "4      13946.7      max_uptime_days\n",
       "5          1.3        min_uptime_hr\n",
       "6      14241.8        max_uptime_hr\n",
       "7          1.4          wandown_cnt\n",
       "8          1.0          lanwpktdrop\n",
       "9          1.1       lanwpktdrop_5g\n",
       "10         1.0      lanpwr_below100\n",
       "11         1.0     avg_lanwpkterred\n",
       "12         1.0  avg_lanwpkterred_5g\n",
       "13        10.9              minrssi\n",
       "14        25.6              maxrssi\n",
       "15         3.7        max_assoc_dev\n",
       "16         3.7       channel_change"
      ]
     },
     "execution_count": 185,
     "metadata": {},
     "output_type": "execute_result"
    }
   ],
   "source": [
    "#Calculating Variance Inflation Factor (VIF):\n",
    "\n",
    "from statsmodels.stats.outliers_influence import variance_inflation_factor\n",
    "\n",
    "vif = pd.DataFrame()\n",
    "vif[\"VIF Factor\"] = [variance_inflation_factor(X_train_miss.values, i) for i in range(X_train_miss.shape[1])]\n",
    "vif[\"features\"] = X_train_miss.columns\n",
    "\n",
    "vif.round(1)"
   ]
  },
  {
   "cell_type": "markdown",
   "id": "2a9d4181",
   "metadata": {},
   "source": [
    "#### From table above i conclude that there is multicolinearity because VIF >10"
   ]
  },
  {
   "cell_type": "markdown",
   "id": "64e870c2",
   "metadata": {},
   "source": [
    "## Variable Selection Using RFECV"
   ]
  },
  {
   "cell_type": "markdown",
   "id": "5cd67537",
   "metadata": {},
   "source": [
    "`Recursive feature elimination (RFE)` is a feature selection technique that helps us to select best features from the given number of features. At first, the model is built on all the given features. Then, it removes the least useful predictor and build the model again. This process is repeated until all the unimportant features are removed from the model."
   ]
  },
  {
   "cell_type": "markdown",
   "id": "d220e9a1",
   "metadata": {},
   "source": [
    "`Recursive Feature Elimination with Cross-Validated (RFECV)` feature selection technique selects the best subset of features for the estimator by removing 0 to N features iteratively using recursive feature elimination. Then it selects the best subset based on the accuracy or cross-validation score or roc-auc of the model. Recursive feature elimination technique eliminates n features from a model by fitting the model multiple times and at each step, removing the weakest features."
   ]
  },
  {
   "cell_type": "code",
   "execution_count": 186,
   "id": "aa56283e",
   "metadata": {},
   "outputs": [],
   "source": [
    "from sklearn.feature_selection import RFECV\n",
    "\n",
    "rfecv = RFECV(estimator=logreg, step=1, cv=10, scoring='accuracy')\n",
    "\n",
    "rfecv = rfecv.fit(X_train_miss, y_train_miss)"
   ]
  },
  {
   "cell_type": "code",
   "execution_count": 187,
   "id": "87174c16",
   "metadata": {},
   "outputs": [
    {
     "name": "stdout",
     "output_type": "stream",
     "text": [
      "The optimal number of features is 11\n",
      "The selected features are:\n",
      "['obs_count', 'max_uptime_days', 'min_uptime_hr', 'max_uptime_hr', 'wandown_cnt', 'lanwpktdrop', 'lanwpktdrop_5g', 'avg_lanwpkterred_5g', 'minrssi', 'maxrssi', 'max_assoc_dev']\n"
     ]
    }
   ],
   "source": [
    "print('The optimal number of features is {}'.format(rfecv.n_features_))\n",
    "features2 = [f for f,s in zip(X_train_miss.columns, rfecv.support_) if s]\n",
    "print('The selected features are:')\n",
    "print ('{}'.format(features2))"
   ]
  },
  {
   "cell_type": "code",
   "execution_count": 188,
   "id": "c255838d",
   "metadata": {},
   "outputs": [
    {
     "name": "stdout",
     "output_type": "stream",
     "text": [
      "['obs_count', 'max_uptime_days', 'min_uptime_hr', 'max_uptime_hr', 'wandown_cnt', 'lanwpktdrop', 'lanwpktdrop_5g', 'avg_lanwpkterred_5g', 'minrssi', 'maxrssi', 'max_assoc_dev']\n"
     ]
    }
   ],
   "source": [
    "print(features2)"
   ]
  },
  {
   "cell_type": "code",
   "execution_count": 189,
   "id": "8d745e46",
   "metadata": {},
   "outputs": [],
   "source": [
    "# Reducing training and test set to the selected features:\n",
    "\n",
    "re_X_train_miss = X_train_miss[features2]\n",
    "re_X_test_miss = X_test_miss[features2]"
   ]
  },
  {
   "cell_type": "code",
   "execution_count": 190,
   "id": "0740679b",
   "metadata": {},
   "outputs": [
    {
     "data": {
      "text/html": [
       "<div>\n",
       "<style scoped>\n",
       "    .dataframe tbody tr th:only-of-type {\n",
       "        vertical-align: middle;\n",
       "    }\n",
       "\n",
       "    .dataframe tbody tr th {\n",
       "        vertical-align: top;\n",
       "    }\n",
       "\n",
       "    .dataframe thead th {\n",
       "        text-align: right;\n",
       "    }\n",
       "</style>\n",
       "<table border=\"1\" class=\"dataframe\">\n",
       "  <thead>\n",
       "    <tr style=\"text-align: right;\">\n",
       "      <th></th>\n",
       "      <th>VIF Factor</th>\n",
       "      <th>features</th>\n",
       "    </tr>\n",
       "  </thead>\n",
       "  <tbody>\n",
       "    <tr>\n",
       "      <th>0</th>\n",
       "      <td>10.2</td>\n",
       "      <td>obs_count</td>\n",
       "    </tr>\n",
       "    <tr>\n",
       "      <th>1</th>\n",
       "      <td>13926.5</td>\n",
       "      <td>max_uptime_days</td>\n",
       "    </tr>\n",
       "    <tr>\n",
       "      <th>2</th>\n",
       "      <td>1.2</td>\n",
       "      <td>min_uptime_hr</td>\n",
       "    </tr>\n",
       "    <tr>\n",
       "      <th>3</th>\n",
       "      <td>14221.6</td>\n",
       "      <td>max_uptime_hr</td>\n",
       "    </tr>\n",
       "    <tr>\n",
       "      <th>4</th>\n",
       "      <td>1.4</td>\n",
       "      <td>wandown_cnt</td>\n",
       "    </tr>\n",
       "    <tr>\n",
       "      <th>5</th>\n",
       "      <td>1.0</td>\n",
       "      <td>lanwpktdrop</td>\n",
       "    </tr>\n",
       "    <tr>\n",
       "      <th>6</th>\n",
       "      <td>1.1</td>\n",
       "      <td>lanwpktdrop_5g</td>\n",
       "    </tr>\n",
       "    <tr>\n",
       "      <th>7</th>\n",
       "      <td>1.0</td>\n",
       "      <td>avg_lanwpkterred_5g</td>\n",
       "    </tr>\n",
       "    <tr>\n",
       "      <th>8</th>\n",
       "      <td>10.9</td>\n",
       "      <td>minrssi</td>\n",
       "    </tr>\n",
       "    <tr>\n",
       "      <th>9</th>\n",
       "      <td>24.9</td>\n",
       "      <td>maxrssi</td>\n",
       "    </tr>\n",
       "    <tr>\n",
       "      <th>10</th>\n",
       "      <td>3.6</td>\n",
       "      <td>max_assoc_dev</td>\n",
       "    </tr>\n",
       "  </tbody>\n",
       "</table>\n",
       "</div>"
      ],
      "text/plain": [
       "    VIF Factor             features\n",
       "0         10.2            obs_count\n",
       "1      13926.5      max_uptime_days\n",
       "2          1.2        min_uptime_hr\n",
       "3      14221.6        max_uptime_hr\n",
       "4          1.4          wandown_cnt\n",
       "5          1.0          lanwpktdrop\n",
       "6          1.1       lanwpktdrop_5g\n",
       "7          1.0  avg_lanwpkterred_5g\n",
       "8         10.9              minrssi\n",
       "9         24.9              maxrssi\n",
       "10         3.6        max_assoc_dev"
      ]
     },
     "execution_count": 190,
     "metadata": {},
     "output_type": "execute_result"
    }
   ],
   "source": [
    "# Calculating VIF for the reduced features:\n",
    "\n",
    "vif = pd.DataFrame()\n",
    "vif[\"VIF Factor\"] = [variance_inflation_factor(re_X_train_miss.values, i) for i in range(re_X_train_miss.shape[1])]\n",
    "vif[\"features\"] = re_X_train_miss.columns\n",
    "\n",
    "vif.round(1)"
   ]
  },
  {
   "cell_type": "code",
   "execution_count": 191,
   "id": "80909fd7",
   "metadata": {},
   "outputs": [
    {
     "name": "stdout",
     "output_type": "stream",
     "text": [
      "The accuracy score is: 0.744\n"
     ]
    }
   ],
   "source": [
    "#Creating the reduced model: \n",
    "\n",
    "logreg4 = LogisticRegression().fit(re_X_train_miss, y_train_miss)\n",
    "\n",
    "print('The accuracy score is: %.3f' % accuracy_score(y_train_miss, logreg4.predict(re_X_train_miss)))"
   ]
  },
  {
   "cell_type": "code",
   "execution_count": 192,
   "id": "24643dc5",
   "metadata": {},
   "outputs": [
    {
     "data": {
      "text/plain": [
       "array([[ 1.89,  1.88,  2.66,  1.84,  1.01,  1.05, 15.68,  1.26, -1.48,\n",
       "         1.81,  4.37]])"
      ]
     },
     "execution_count": 192,
     "metadata": {},
     "output_type": "execute_result"
    }
   ],
   "source": [
    "# New variables' coeficients:\n",
    "\n",
    "np.round(logreg4.coef_, 2)"
   ]
  },
  {
   "cell_type": "code",
   "execution_count": 193,
   "id": "beb733b4",
   "metadata": {},
   "outputs": [
    {
     "data": {
      "text/plain": [
       "array([-3.15])"
      ]
     },
     "execution_count": 193,
     "metadata": {},
     "output_type": "execute_result"
    }
   ],
   "source": [
    "np.round(logreg4.intercept_, 2)"
   ]
  },
  {
   "cell_type": "code",
   "execution_count": 194,
   "id": "e1cee9b8",
   "metadata": {},
   "outputs": [
    {
     "name": "stdout",
     "output_type": "stream",
     "text": [
      "The accuracy score is: 0.742\n"
     ]
    }
   ],
   "source": [
    "# Model scores with the test datapoints:\n",
    "\n",
    "print('The accuracy score is: %.3f' % accuracy_score(y_test_miss, logreg4.predict(re_X_test_miss)))"
   ]
  },
  {
   "cell_type": "code",
   "execution_count": 195,
   "id": "1cecdbbb",
   "metadata": {},
   "outputs": [
    {
     "data": {
      "text/plain": [
       "array([1, 0, 0, ..., 1, 1, 1], dtype=int64)"
      ]
     },
     "execution_count": 195,
     "metadata": {},
     "output_type": "execute_result"
    }
   ],
   "source": [
    "y_pred_test_miss = logreg4.predict(re_X_test_miss)\n",
    "\n",
    "y_pred_test_miss"
   ]
  },
  {
   "cell_type": "markdown",
   "id": "ba180513",
   "metadata": {},
   "source": [
    "## Confusion Matrix"
   ]
  },
  {
   "cell_type": "code",
   "execution_count": 196,
   "id": "924142dd",
   "metadata": {},
   "outputs": [
    {
     "name": "stdout",
     "output_type": "stream",
     "text": [
      "Confusion matrix\n",
      "\n",
      " [[2487 1048]\n",
      " [ 778 2757]]\n",
      "\n",
      "True Positives(TP) =  2487\n",
      "\n",
      "True Negatives(TN) =  2757\n",
      "\n",
      "False Positives(FP) =  1048\n",
      "\n",
      "False Negatives(FN) =  778\n"
     ]
    }
   ],
   "source": [
    "# Print the Confusion Matrix and slice it into four pieces\n",
    "\n",
    "from sklearn.metrics import confusion_matrix\n",
    "\n",
    "cm = confusion_matrix(y_test_miss, y_pred_test_miss)\n",
    "\n",
    "print('Confusion matrix\\n\\n', cm)\n",
    "\n",
    "print('\\nTrue Positives(TP) = ', cm[0,0])\n",
    "\n",
    "print('\\nTrue Negatives(TN) = ', cm[1,1])\n",
    "\n",
    "print('\\nFalse Positives(FP) = ', cm[0,1])\n",
    "\n",
    "print('\\nFalse Negatives(FN) = ', cm[1,0])"
   ]
  },
  {
   "cell_type": "code",
   "execution_count": 197,
   "id": "1695e3b2",
   "metadata": {},
   "outputs": [
    {
     "data": {
      "text/plain": [
       "<AxesSubplot:>"
      ]
     },
     "execution_count": 197,
     "metadata": {},
     "output_type": "execute_result"
    },
    {
     "data": {
      "image/png": "[encoded data removed]",
      "text/plain": [
       "<Figure size 432x288 with 2 Axes>"
      ]
     },
     "metadata": {
      "needs_background": "light"
     },
     "output_type": "display_data"
    }
   ],
   "source": [
    "# visualize confusion matrix with seaborn heatmap\n",
    "\n",
    "cm_matrix = pd.DataFrame(data=cm, columns=['Actual Positive:1', 'Actual Negative:0'], \n",
    "                                 index=['Predict Positive:1', 'Predict Negative:0'])\n",
    "\n",
    "sns.heatmap(cm_matrix, annot=True, fmt='d', cmap='YlGnBu')"
   ]
  },
  {
   "cell_type": "markdown",
   "id": "f919fc36",
   "metadata": {},
   "source": [
    "## Classification Report"
   ]
  },
  {
   "cell_type": "code",
   "execution_count": 198,
   "id": "1eeef09f",
   "metadata": {},
   "outputs": [
    {
     "name": "stdout",
     "output_type": "stream",
     "text": [
      "              precision    recall  f1-score   support\n",
      "\n",
      "           0       0.76      0.70      0.73      3535\n",
      "           1       0.72      0.78      0.75      3535\n",
      "\n",
      "    accuracy                           0.74      7070\n",
      "   macro avg       0.74      0.74      0.74      7070\n",
      "weighted avg       0.74      0.74      0.74      7070\n",
      "\n"
     ]
    }
   ],
   "source": [
    "from sklearn.metrics import classification_report\n",
    "\n",
    "print(classification_report(y_test_miss, logreg4.predict(re_X_test_miss)))"
   ]
  },
  {
   "cell_type": "code",
   "execution_count": 199,
   "id": "fd833f28",
   "metadata": {},
   "outputs": [],
   "source": [
    "TP = cm[0,0]\n",
    "TN = cm[1,1]\n",
    "FP = cm[0,1]\n",
    "FN = cm[1,0]"
   ]
  },
  {
   "cell_type": "code",
   "execution_count": 200,
   "id": "44a32637",
   "metadata": {},
   "outputs": [
    {
     "name": "stdout",
     "output_type": "stream",
     "text": [
      "Classification accuracy : 0.7417\n"
     ]
    }
   ],
   "source": [
    "# print classification accuracy\n",
    "\n",
    "classification_accuracy = (TP + TN) / float(TP + TN + FP + FN)\n",
    "\n",
    "print('Classification accuracy : {0:0.4f}'.format(classification_accuracy))"
   ]
  },
  {
   "cell_type": "code",
   "execution_count": 201,
   "id": "00b27004",
   "metadata": {},
   "outputs": [
    {
     "name": "stdout",
     "output_type": "stream",
     "text": [
      "Classification error : 0.2583\n"
     ]
    }
   ],
   "source": [
    "# print classification error\n",
    "\n",
    "classification_error = (FP + FN) / float(TP + TN + FP + FN)\n",
    "\n",
    "print('Classification error : {0:0.4f}'.format(classification_error))"
   ]
  },
  {
   "cell_type": "code",
   "execution_count": 202,
   "id": "1d13390f",
   "metadata": {},
   "outputs": [
    {
     "name": "stdout",
     "output_type": "stream",
     "text": [
      "Precision : 0.7035\n"
     ]
    }
   ],
   "source": [
    "# print precision score\n",
    "\n",
    "precision = TP / float(TP + FP)\n",
    "\n",
    "print('Precision : {0:0.4f}'.format(precision))"
   ]
  },
  {
   "cell_type": "code",
   "execution_count": 203,
   "id": "8e498f24",
   "metadata": {},
   "outputs": [
    {
     "name": "stdout",
     "output_type": "stream",
     "text": [
      "Recall or Sensitivity : 0.7617\n"
     ]
    }
   ],
   "source": [
    "recall = TP / float(TP + FN)\n",
    "\n",
    "print('Recall or Sensitivity : {0:0.4f}'.format(recall))"
   ]
  },
  {
   "cell_type": "code",
   "execution_count": 204,
   "id": "b99c7436",
   "metadata": {},
   "outputs": [
    {
     "name": "stdout",
     "output_type": "stream",
     "text": [
      "True Positive Rate : 0.7617\n"
     ]
    }
   ],
   "source": [
    "true_positive_rate = TP / float(TP + FN)\n",
    "\n",
    "\n",
    "print('True Positive Rate : {0:0.4f}'.format(true_positive_rate))"
   ]
  },
  {
   "cell_type": "code",
   "execution_count": 205,
   "id": "a1306cee",
   "metadata": {},
   "outputs": [
    {
     "name": "stdout",
     "output_type": "stream",
     "text": [
      "False Positive Rate : 0.2754\n"
     ]
    }
   ],
   "source": [
    "false_positive_rate = FP / float(FP + TN)\n",
    "\n",
    "\n",
    "print('False Positive Rate : {0:0.4f}'.format(false_positive_rate))"
   ]
  },
  {
   "cell_type": "code",
   "execution_count": 206,
   "id": "dc68d969",
   "metadata": {},
   "outputs": [
    {
     "name": "stdout",
     "output_type": "stream",
     "text": [
      "Specificity : 0.7246\n"
     ]
    }
   ],
   "source": [
    "specificity = TN / (TN + FP)\n",
    "\n",
    "print('Specificity : {0:0.4f}'.format(specificity))"
   ]
  },
  {
   "cell_type": "code",
   "execution_count": 207,
   "id": "5882b4b4",
   "metadata": {},
   "outputs": [
    {
     "data": {
      "text/plain": [
       "<AxesSubplot:>"
      ]
     },
     "execution_count": 207,
     "metadata": {},
     "output_type": "execute_result"
    },
    {
     "data": {
      "image/png": "[encoded data removed]",
      "text/plain": [
       "<Figure size 432x288 with 2 Axes>"
      ]
     },
     "metadata": {
      "needs_background": "light"
     },
     "output_type": "display_data"
    }
   ],
   "source": [
    "# visualize confusion matrix with seaborn heatmap\n",
    "\n",
    "cm_matrix = pd.DataFrame(data=cm, columns=['Actual Positive:1', 'Actual Negative:0'], \n",
    "                                 index=['Predict Positive:1', 'Predict Negative:0'])\n",
    "\n",
    "sns.heatmap(cm_matrix, annot=True, fmt='d', cmap='YlOrRd')"
   ]
  },
  {
   "cell_type": "markdown",
   "id": "c803c02d",
   "metadata": {},
   "source": [
    "## Adjusting Threshold Level"
   ]
  },
  {
   "cell_type": "code",
   "execution_count": 211,
   "id": "d2cfb9f3",
   "metadata": {},
   "outputs": [],
   "source": [
    "# store the predicted probabilities for class 1 - Probability of rain\n",
    "\n",
    "y_pred1 = logreg4.predict_proba(re_X_test_miss)[:, 1]"
   ]
  },
  {
   "cell_type": "code",
   "execution_count": 212,
   "id": "b62d7eca",
   "metadata": {},
   "outputs": [
    {
     "data": {
      "text/plain": [
       "Text(0, 0.5, 'Frequency')"
      ]
     },
     "execution_count": 212,
     "metadata": {},
     "output_type": "execute_result"
    },
    {
     "data": {
      "image/png": "[encoded data removed]",
      "text/plain": [
       "<Figure size 432x288 with 1 Axes>"
      ]
     },
     "metadata": {
      "needs_background": "light"
     },
     "output_type": "display_data"
    }
   ],
   "source": [
    "# plot histogram of predicted probabilities\n",
    "\n",
    "\n",
    "# adjust the font size \n",
    "plt.rcParams['font.size'] = 12\n",
    "\n",
    "\n",
    "# plot histogram with 10 bins\n",
    "plt.hist(y_pred1, bins = 10)\n",
    "\n",
    "\n",
    "# set the title of predicted probabilities\n",
    "plt.title('Histogram of predicted probabilities of 1')\n",
    "\n",
    "\n",
    "# set the x-axis limit\n",
    "plt.xlim(0,1)\n",
    "\n",
    "\n",
    "# set the title\n",
    "plt.xlabel('Predicted probabilities of 1')\n",
    "plt.ylabel('Frequency')"
   ]
  },
  {
   "cell_type": "code",
   "execution_count": 219,
   "id": "6e884790",
   "metadata": {},
   "outputs": [],
   "source": [
    "from sklearn.metrics import roc_auc_score, roc_curve, precision_recall_curve, confusion_matrix"
   ]
  },
  {
   "cell_type": "code",
   "execution_count": 217,
   "id": "c3765b00",
   "metadata": {},
   "outputs": [],
   "source": [
    "class LogisticRegressionWithThreshold(LogisticRegression):\n",
    "    def predict(self, X, threshold=None):\n",
    "        if threshold == None: \n",
    "            return LogisticRegression.predict(self, X)\n",
    "        else:\n",
    "            y_scores = LogisticRegression.predict_proba(self, X)[:, 1]\n",
    "            y_pred_with_threshold = (y_scores >= threshold).astype(int)\n",
    "\n",
    "            return y_pred_with_threshold\n",
    "    \n",
    "    def threshold_from_optimal_tpr_minus_fpr(self, X, y):\n",
    "        y_scores = LogisticRegression.predict_proba(self, X)[:, 1]\n",
    "        fpr, tpr, thresholds = roc_curve(y, y_scores) \n",
    "\n",
    "        optimal_idx = np.argmax(tpr - fpr)\n",
    "\n",
    "        return thresholds[optimal_idx], tpr[optimal_idx] - fpr[optimal_idx]"
   ]
  },
  {
   "cell_type": "code",
   "execution_count": 221,
   "id": "7a005d0d",
   "metadata": {},
   "outputs": [
    {
     "data": {
      "text/plain": [
       "0.5198382916190795"
      ]
     },
     "execution_count": 221,
     "metadata": {},
     "output_type": "execute_result"
    }
   ],
   "source": [
    "lrt = LogisticRegressionWithThreshold()\n",
    "lrt.fit(re_X_train_miss, y_train_miss)\n",
    "\n",
    "threshold, optimal_tpr_minus_fpr = lrt.threshold_from_optimal_tpr_minus_fpr(re_X_train_miss, y_train_miss)\n",
    "y_pred = lrt.predict(re_X_train_miss, threshold)\n",
    "\n",
    "threshold"
   ]
  },
  {
   "cell_type": "markdown",
   "id": "e12f655a",
   "metadata": {},
   "source": [
    "## Model Improvement"
   ]
  },
  {
   "cell_type": "markdown",
   "id": "27fa5b4d",
   "metadata": {},
   "source": [
    "I will use several techniques to improve the model performance. There are 3 techniques which are used in practice for performance improvement. There are `k-fold cross validation` and `hyperparameter optimization using GridSearchCV` and i use reduced dataset (after using stepwise selection)"
   ]
  },
  {
   "cell_type": "markdown",
   "id": "6747fc9e",
   "metadata": {},
   "source": [
    "## K-Fold Cross Validation "
   ]
  },
  {
   "cell_type": "code",
   "execution_count": 101,
   "id": "36889b5a",
   "metadata": {},
   "outputs": [
    {
     "name": "stdout",
     "output_type": "stream",
     "text": [
      "Cross-validation scores:[0.82290562 0.78402262 0.80134323 0.76210675 0.75070721 0.72595474\n",
      " 0.71393211 0.69342291 0.67256011 0.67079208]\n"
     ]
    }
   ],
   "source": [
    "# Applying 10-Fold Cross Validation\n",
    "\n",
    "from sklearn.model_selection import cross_val_score\n",
    "\n",
    "scores = cross_val_score(logreg4, re_X_train_miss, y_train_miss, cv = 10, scoring='accuracy')\n",
    "\n",
    "print('Cross-validation scores:{}'.format(scores))"
   ]
  },
  {
   "cell_type": "code",
   "execution_count": 102,
   "id": "374bd77e",
   "metadata": {},
   "outputs": [
    {
     "name": "stdout",
     "output_type": "stream",
     "text": [
      "Average cross-validation score: 0.7398\n"
     ]
    }
   ],
   "source": [
    "# compute Average cross-validation score\n",
    "\n",
    "print('Average cross-validation score: {:.4f}'.format(scores.mean()))"
   ]
  },
  {
   "cell_type": "code",
   "execution_count": 105,
   "id": "acb9aafe",
   "metadata": {},
   "outputs": [
    {
     "name": "stdout",
     "output_type": "stream",
     "text": [
      "Cross-validation scores:[0.79985856 0.79985856 0.73903819 0.70014144 0.67680339]\n"
     ]
    }
   ],
   "source": [
    "# Applying 5-Fold Cross Validation\n",
    "\n",
    "from sklearn.model_selection import cross_val_score\n",
    "\n",
    "scores = cross_val_score(logreg4, re_X_test_miss, y_test_miss, cv = 5, scoring='accuracy')\n",
    "\n",
    "print('Cross-validation scores:{}'.format(scores))"
   ]
  },
  {
   "cell_type": "code",
   "execution_count": 106,
   "id": "ab38296f",
   "metadata": {},
   "outputs": [
    {
     "name": "stdout",
     "output_type": "stream",
     "text": [
      "Average cross-validation score: 0.7431\n"
     ]
    }
   ],
   "source": [
    "print('Average cross-validation score: {:.4f}'.format(scores.mean()))"
   ]
  },
  {
   "cell_type": "markdown",
   "id": "2767438b",
   "metadata": {},
   "source": [
    "## Hyperparameter Optimization using GridSearch CV"
   ]
  },
  {
   "cell_type": "code",
   "execution_count": 223,
   "id": "19b10ab1",
   "metadata": {},
   "outputs": [
    {
     "name": "stderr",
     "output_type": "stream",
     "text": [
      "C:\\Users\\Asus\\anaconda3\\lib\\site-packages\\sklearn\\linear_model\\_logistic.py:444: ConvergenceWarning: lbfgs failed to converge (status=1):\n",
      "STOP: TOTAL NO. of ITERATIONS REACHED LIMIT.\n",
      "\n",
      "Increase the number of iterations (max_iter) or scale the data as shown in:\n",
      "    https://scikit-learn.org/stable/modules/preprocessing.html\n",
      "Please also refer to the documentation for alternative solver options:\n",
      "    https://scikit-learn.org/stable/modules/linear_model.html#logistic-regression\n",
      "  n_iter_i = _check_optimize_result(\n",
      "C:\\Users\\Asus\\anaconda3\\lib\\site-packages\\sklearn\\linear_model\\_logistic.py:444: ConvergenceWarning: lbfgs failed to converge (status=1):\n",
      "STOP: TOTAL NO. of ITERATIONS REACHED LIMIT.\n",
      "\n",
      "Increase the number of iterations (max_iter) or scale the data as shown in:\n",
      "    https://scikit-learn.org/stable/modules/preprocessing.html\n",
      "Please also refer to the documentation for alternative solver options:\n",
      "    https://scikit-learn.org/stable/modules/linear_model.html#logistic-regression\n",
      "  n_iter_i = _check_optimize_result(\n",
      "C:\\Users\\Asus\\anaconda3\\lib\\site-packages\\sklearn\\linear_model\\_logistic.py:444: ConvergenceWarning: lbfgs failed to converge (status=1):\n",
      "STOP: TOTAL NO. of ITERATIONS REACHED LIMIT.\n",
      "\n",
      "Increase the number of iterations (max_iter) or scale the data as shown in:\n",
      "    https://scikit-learn.org/stable/modules/preprocessing.html\n",
      "Please also refer to the documentation for alternative solver options:\n",
      "    https://scikit-learn.org/stable/modules/linear_model.html#logistic-regression\n",
      "  n_iter_i = _check_optimize_result(\n",
      "C:\\Users\\Asus\\anaconda3\\lib\\site-packages\\sklearn\\linear_model\\_logistic.py:444: ConvergenceWarning: lbfgs failed to converge (status=1):\n",
      "STOP: TOTAL NO. of ITERATIONS REACHED LIMIT.\n",
      "\n",
      "Increase the number of iterations (max_iter) or scale the data as shown in:\n",
      "    https://scikit-learn.org/stable/modules/preprocessing.html\n",
      "Please also refer to the documentation for alternative solver options:\n",
      "    https://scikit-learn.org/stable/modules/linear_model.html#logistic-regression\n",
      "  n_iter_i = _check_optimize_result(\n",
      "C:\\Users\\Asus\\anaconda3\\lib\\site-packages\\sklearn\\linear_model\\_logistic.py:444: ConvergenceWarning: lbfgs failed to converge (status=1):\n",
      "STOP: TOTAL NO. of ITERATIONS REACHED LIMIT.\n",
      "\n",
      "Increase the number of iterations (max_iter) or scale the data as shown in:\n",
      "    https://scikit-learn.org/stable/modules/preprocessing.html\n",
      "Please also refer to the documentation for alternative solver options:\n",
      "    https://scikit-learn.org/stable/modules/linear_model.html#logistic-regression\n",
      "  n_iter_i = _check_optimize_result(\n",
      "C:\\Users\\Asus\\anaconda3\\lib\\site-packages\\sklearn\\linear_model\\_logistic.py:444: ConvergenceWarning: lbfgs failed to converge (status=1):\n",
      "STOP: TOTAL NO. of ITERATIONS REACHED LIMIT.\n",
      "\n",
      "Increase the number of iterations (max_iter) or scale the data as shown in:\n",
      "    https://scikit-learn.org/stable/modules/preprocessing.html\n",
      "Please also refer to the documentation for alternative solver options:\n",
      "    https://scikit-learn.org/stable/modules/linear_model.html#logistic-regression\n",
      "  n_iter_i = _check_optimize_result(\n",
      "C:\\Users\\Asus\\anaconda3\\lib\\site-packages\\sklearn\\linear_model\\_logistic.py:444: ConvergenceWarning: lbfgs failed to converge (status=1):\n",
      "STOP: TOTAL NO. of ITERATIONS REACHED LIMIT.\n",
      "\n",
      "Increase the number of iterations (max_iter) or scale the data as shown in:\n",
      "    https://scikit-learn.org/stable/modules/preprocessing.html\n",
      "Please also refer to the documentation for alternative solver options:\n",
      "    https://scikit-learn.org/stable/modules/linear_model.html#logistic-regression\n",
      "  n_iter_i = _check_optimize_result(\n",
      "C:\\Users\\Asus\\anaconda3\\lib\\site-packages\\sklearn\\linear_model\\_logistic.py:444: ConvergenceWarning: lbfgs failed to converge (status=1):\n",
      "STOP: TOTAL NO. of ITERATIONS REACHED LIMIT.\n",
      "\n",
      "Increase the number of iterations (max_iter) or scale the data as shown in:\n",
      "    https://scikit-learn.org/stable/modules/preprocessing.html\n",
      "Please also refer to the documentation for alternative solver options:\n",
      "    https://scikit-learn.org/stable/modules/linear_model.html#logistic-regression\n",
      "  n_iter_i = _check_optimize_result(\n",
      "C:\\Users\\Asus\\anaconda3\\lib\\site-packages\\sklearn\\linear_model\\_logistic.py:444: ConvergenceWarning: lbfgs failed to converge (status=1):\n",
      "STOP: TOTAL NO. of ITERATIONS REACHED LIMIT.\n",
      "\n",
      "Increase the number of iterations (max_iter) or scale the data as shown in:\n",
      "    https://scikit-learn.org/stable/modules/preprocessing.html\n",
      "Please also refer to the documentation for alternative solver options:\n",
      "    https://scikit-learn.org/stable/modules/linear_model.html#logistic-regression\n",
      "  n_iter_i = _check_optimize_result(\n",
      "C:\\Users\\Asus\\anaconda3\\lib\\site-packages\\sklearn\\linear_model\\_logistic.py:444: ConvergenceWarning: lbfgs failed to converge (status=1):\n",
      "STOP: TOTAL NO. of ITERATIONS REACHED LIMIT.\n",
      "\n",
      "Increase the number of iterations (max_iter) or scale the data as shown in:\n",
      "    https://scikit-learn.org/stable/modules/preprocessing.html\n",
      "Please also refer to the documentation for alternative solver options:\n",
      "    https://scikit-learn.org/stable/modules/linear_model.html#logistic-regression\n",
      "  n_iter_i = _check_optimize_result(\n",
      "C:\\Users\\Asus\\anaconda3\\lib\\site-packages\\sklearn\\linear_model\\_logistic.py:444: ConvergenceWarning: lbfgs failed to converge (status=1):\n",
      "STOP: TOTAL NO. of ITERATIONS REACHED LIMIT.\n",
      "\n",
      "Increase the number of iterations (max_iter) or scale the data as shown in:\n",
      "    https://scikit-learn.org/stable/modules/preprocessing.html\n",
      "Please also refer to the documentation for alternative solver options:\n",
      "    https://scikit-learn.org/stable/modules/linear_model.html#logistic-regression\n",
      "  n_iter_i = _check_optimize_result(\n",
      "C:\\Users\\Asus\\anaconda3\\lib\\site-packages\\sklearn\\linear_model\\_logistic.py:444: ConvergenceWarning: lbfgs failed to converge (status=1):\n",
      "STOP: TOTAL NO. of ITERATIONS REACHED LIMIT.\n",
      "\n",
      "Increase the number of iterations (max_iter) or scale the data as shown in:\n",
      "    https://scikit-learn.org/stable/modules/preprocessing.html\n",
      "Please also refer to the documentation for alternative solver options:\n",
      "    https://scikit-learn.org/stable/modules/linear_model.html#logistic-regression\n",
      "  n_iter_i = _check_optimize_result(\n",
      "C:\\Users\\Asus\\anaconda3\\lib\\site-packages\\sklearn\\linear_model\\_logistic.py:444: ConvergenceWarning: lbfgs failed to converge (status=1):\n",
      "STOP: TOTAL NO. of ITERATIONS REACHED LIMIT.\n",
      "\n",
      "Increase the number of iterations (max_iter) or scale the data as shown in:\n",
      "    https://scikit-learn.org/stable/modules/preprocessing.html\n",
      "Please also refer to the documentation for alternative solver options:\n",
      "    https://scikit-learn.org/stable/modules/linear_model.html#logistic-regression\n",
      "  n_iter_i = _check_optimize_result(\n",
      "C:\\Users\\Asus\\anaconda3\\lib\\site-packages\\sklearn\\linear_model\\_logistic.py:444: ConvergenceWarning: lbfgs failed to converge (status=1):\n",
      "STOP: TOTAL NO. of ITERATIONS REACHED LIMIT.\n",
      "\n",
      "Increase the number of iterations (max_iter) or scale the data as shown in:\n",
      "    https://scikit-learn.org/stable/modules/preprocessing.html\n",
      "Please also refer to the documentation for alternative solver options:\n",
      "    https://scikit-learn.org/stable/modules/linear_model.html#logistic-regression\n",
      "  n_iter_i = _check_optimize_result(\n",
      "C:\\Users\\Asus\\anaconda3\\lib\\site-packages\\sklearn\\linear_model\\_logistic.py:444: ConvergenceWarning: lbfgs failed to converge (status=1):\n",
      "STOP: TOTAL NO. of ITERATIONS REACHED LIMIT.\n",
      "\n",
      "Increase the number of iterations (max_iter) or scale the data as shown in:\n",
      "    https://scikit-learn.org/stable/modules/preprocessing.html\n",
      "Please also refer to the documentation for alternative solver options:\n",
      "    https://scikit-learn.org/stable/modules/linear_model.html#logistic-regression\n",
      "  n_iter_i = _check_optimize_result(\n",
      "C:\\Users\\Asus\\anaconda3\\lib\\site-packages\\sklearn\\linear_model\\_logistic.py:444: ConvergenceWarning: lbfgs failed to converge (status=1):\n",
      "STOP: TOTAL NO. of ITERATIONS REACHED LIMIT.\n",
      "\n",
      "Increase the number of iterations (max_iter) or scale the data as shown in:\n",
      "    https://scikit-learn.org/stable/modules/preprocessing.html\n",
      "Please also refer to the documentation for alternative solver options:\n",
      "    https://scikit-learn.org/stable/modules/linear_model.html#logistic-regression\n",
      "  n_iter_i = _check_optimize_result(\n",
      "C:\\Users\\Asus\\anaconda3\\lib\\site-packages\\sklearn\\linear_model\\_logistic.py:444: ConvergenceWarning: lbfgs failed to converge (status=1):\n",
      "STOP: TOTAL NO. of ITERATIONS REACHED LIMIT.\n",
      "\n",
      "Increase the number of iterations (max_iter) or scale the data as shown in:\n",
      "    https://scikit-learn.org/stable/modules/preprocessing.html\n",
      "Please also refer to the documentation for alternative solver options:\n",
      "    https://scikit-learn.org/stable/modules/linear_model.html#logistic-regression\n",
      "  n_iter_i = _check_optimize_result(\n",
      "C:\\Users\\Asus\\anaconda3\\lib\\site-packages\\sklearn\\linear_model\\_logistic.py:444: ConvergenceWarning: lbfgs failed to converge (status=1):\n",
      "STOP: TOTAL NO. of ITERATIONS REACHED LIMIT.\n",
      "\n",
      "Increase the number of iterations (max_iter) or scale the data as shown in:\n",
      "    https://scikit-learn.org/stable/modules/preprocessing.html\n",
      "Please also refer to the documentation for alternative solver options:\n",
      "    https://scikit-learn.org/stable/modules/linear_model.html#logistic-regression\n",
      "  n_iter_i = _check_optimize_result(\n",
      "C:\\Users\\Asus\\anaconda3\\lib\\site-packages\\sklearn\\linear_model\\_logistic.py:444: ConvergenceWarning: lbfgs failed to converge (status=1):\n",
      "STOP: TOTAL NO. of ITERATIONS REACHED LIMIT.\n",
      "\n",
      "Increase the number of iterations (max_iter) or scale the data as shown in:\n",
      "    https://scikit-learn.org/stable/modules/preprocessing.html\n",
      "Please also refer to the documentation for alternative solver options:\n",
      "    https://scikit-learn.org/stable/modules/linear_model.html#logistic-regression\n",
      "  n_iter_i = _check_optimize_result(\n",
      "C:\\Users\\Asus\\anaconda3\\lib\\site-packages\\sklearn\\linear_model\\_logistic.py:444: ConvergenceWarning: lbfgs failed to converge (status=1):\n",
      "STOP: TOTAL NO. of ITERATIONS REACHED LIMIT.\n",
      "\n",
      "Increase the number of iterations (max_iter) or scale the data as shown in:\n",
      "    https://scikit-learn.org/stable/modules/preprocessing.html\n",
      "Please also refer to the documentation for alternative solver options:\n",
      "    https://scikit-learn.org/stable/modules/linear_model.html#logistic-regression\n",
      "  n_iter_i = _check_optimize_result(\n",
      "C:\\Users\\Asus\\anaconda3\\lib\\site-packages\\sklearn\\linear_model\\_logistic.py:444: ConvergenceWarning: lbfgs failed to converge (status=1):\n",
      "STOP: TOTAL NO. of ITERATIONS REACHED LIMIT.\n",
      "\n",
      "Increase the number of iterations (max_iter) or scale the data as shown in:\n",
      "    https://scikit-learn.org/stable/modules/preprocessing.html\n",
      "Please also refer to the documentation for alternative solver options:\n",
      "    https://scikit-learn.org/stable/modules/linear_model.html#logistic-regression\n",
      "  n_iter_i = _check_optimize_result(\n",
      "C:\\Users\\Asus\\anaconda3\\lib\\site-packages\\sklearn\\linear_model\\_logistic.py:444: ConvergenceWarning: lbfgs failed to converge (status=1):\n",
      "STOP: TOTAL NO. of ITERATIONS REACHED LIMIT.\n",
      "\n",
      "Increase the number of iterations (max_iter) or scale the data as shown in:\n",
      "    https://scikit-learn.org/stable/modules/preprocessing.html\n",
      "Please also refer to the documentation for alternative solver options:\n",
      "    https://scikit-learn.org/stable/modules/linear_model.html#logistic-regression\n",
      "  n_iter_i = _check_optimize_result(\n",
      "C:\\Users\\Asus\\anaconda3\\lib\\site-packages\\sklearn\\linear_model\\_logistic.py:444: ConvergenceWarning: lbfgs failed to converge (status=1):\n",
      "STOP: TOTAL NO. of ITERATIONS REACHED LIMIT.\n",
      "\n",
      "Increase the number of iterations (max_iter) or scale the data as shown in:\n",
      "    https://scikit-learn.org/stable/modules/preprocessing.html\n",
      "Please also refer to the documentation for alternative solver options:\n",
      "    https://scikit-learn.org/stable/modules/linear_model.html#logistic-regression\n",
      "  n_iter_i = _check_optimize_result(\n",
      "C:\\Users\\Asus\\anaconda3\\lib\\site-packages\\sklearn\\linear_model\\_logistic.py:444: ConvergenceWarning: lbfgs failed to converge (status=1):\n",
      "STOP: TOTAL NO. of ITERATIONS REACHED LIMIT.\n",
      "\n",
      "Increase the number of iterations (max_iter) or scale the data as shown in:\n",
      "    https://scikit-learn.org/stable/modules/preprocessing.html\n",
      "Please also refer to the documentation for alternative solver options:\n",
      "    https://scikit-learn.org/stable/modules/linear_model.html#logistic-regression\n",
      "  n_iter_i = _check_optimize_result(\n",
      "C:\\Users\\Asus\\anaconda3\\lib\\site-packages\\sklearn\\model_selection\\_validation.py:378: FitFailedWarning: \n",
      "10 fits failed out of a total of 60.\n",
      "The score on these train-test partitions for these parameters will be set to nan.\n",
      "If these failures are not expected, you can try to debug them by setting error_score='raise'.\n",
      "\n",
      "Below are more details about the failures:\n",
      "--------------------------------------------------------------------------------\n",
      "10 fits failed with the following error:\n",
      "Traceback (most recent call last):\n",
      "  File \"C:\\Users\\Asus\\anaconda3\\lib\\site-packages\\sklearn\\model_selection\\_validation.py\", line 686, in _fit_and_score\n",
      "    estimator.fit(X_train, y_train, **fit_params)\n",
      "  File \"C:\\Users\\Asus\\anaconda3\\lib\\site-packages\\sklearn\\linear_model\\_logistic.py\", line 1091, in fit\n",
      "    solver = _check_solver(self.solver, self.penalty, self.dual)\n",
      "  File \"C:\\Users\\Asus\\anaconda3\\lib\\site-packages\\sklearn\\linear_model\\_logistic.py\", line 61, in _check_solver\n",
      "    raise ValueError(\n",
      "ValueError: Solver lbfgs supports only 'l2' or 'none' penalties, got l1 penalty.\n",
      "\n",
      "  warnings.warn(some_fits_failed_message, FitFailedWarning)\n",
      "C:\\Users\\Asus\\anaconda3\\lib\\site-packages\\sklearn\\model_selection\\_search.py:953: UserWarning: One or more of the test scores are non-finite: [       nan 0.74228531 0.74228531 0.75434198 0.78057756 0.82074428]\n",
      "  warnings.warn(\n",
      "C:\\Users\\Asus\\anaconda3\\lib\\site-packages\\sklearn\\linear_model\\_logistic.py:444: ConvergenceWarning: lbfgs failed to converge (status=1):\n",
      "STOP: TOTAL NO. of ITERATIONS REACHED LIMIT.\n",
      "\n",
      "Increase the number of iterations (max_iter) or scale the data as shown in:\n",
      "    https://scikit-learn.org/stable/modules/preprocessing.html\n",
      "Please also refer to the documentation for alternative solver options:\n",
      "    https://scikit-learn.org/stable/modules/linear_model.html#logistic-regression\n",
      "  n_iter_i = _check_optimize_result(\n"
     ]
    },
    {
     "data": {
      "text/html": [
       "<style>#sk-container-id-4 {color: black;background-color: white;}#sk-container-id-4 pre{padding: 0;}#sk-container-id-4 div.sk-toggleable {background-color: white;}#sk-container-id-4 label.sk-toggleable__label {cursor: pointer;display: block;width: 100%;margin-bottom: 0;padding: 0.3em;box-sizing: border-box;text-align: center;}#sk-container-id-4 label.sk-toggleable__label-arrow:before {content: \"▸\";float: left;margin-right: 0.25em;color: #696969;}#sk-container-id-4 label.sk-toggleable__label-arrow:hover:before {color: black;}#sk-container-id-4 div.sk-estimator:hover label.sk-toggleable__label-arrow:before {color: black;}#sk-container-id-4 div.sk-toggleable__content {max-height: 0;max-width: 0;overflow: hidden;text-align: left;background-color: #f0f8ff;}#sk-container-id-4 div.sk-toggleable__content pre {margin: 0.2em;color: black;border-radius: 0.25em;background-color: #f0f8ff;}#sk-container-id-4 input.sk-toggleable__control:checked~div.sk-toggleable__content {max-height: 200px;max-width: 100%;overflow: auto;}#sk-container-id-4 input.sk-toggleable__control:checked~label.sk-toggleable__label-arrow:before {content: \"▾\";}#sk-container-id-4 div.sk-estimator input.sk-toggleable__control:checked~label.sk-toggleable__label {background-color: #d4ebff;}#sk-container-id-4 div.sk-label input.sk-toggleable__control:checked~label.sk-toggleable__label {background-color: #d4ebff;}#sk-container-id-4 input.sk-hidden--visually {border: 0;clip: rect(1px 1px 1px 1px);clip: rect(1px, 1px, 1px, 1px);height: 1px;margin: -1px;overflow: hidden;padding: 0;position: absolute;width: 1px;}#sk-container-id-4 div.sk-estimator {font-family: monospace;background-color: #f0f8ff;border: 1px dotted black;border-radius: 0.25em;box-sizing: border-box;margin-bottom: 0.5em;}#sk-container-id-4 div.sk-estimator:hover {background-color: #d4ebff;}#sk-container-id-4 div.sk-parallel-item::after {content: \"\";width: 100%;border-bottom: 1px solid gray;flex-grow: 1;}#sk-container-id-4 div.sk-label:hover label.sk-toggleable__label {background-color: #d4ebff;}#sk-container-id-4 div.sk-serial::before {content: \"\";position: absolute;border-left: 1px solid gray;box-sizing: border-box;top: 0;bottom: 0;left: 50%;z-index: 0;}#sk-container-id-4 div.sk-serial {display: flex;flex-direction: column;align-items: center;background-color: white;padding-right: 0.2em;padding-left: 0.2em;position: relative;}#sk-container-id-4 div.sk-item {position: relative;z-index: 1;}#sk-container-id-4 div.sk-parallel {display: flex;align-items: stretch;justify-content: center;background-color: white;position: relative;}#sk-container-id-4 div.sk-item::before, #sk-container-id-4 div.sk-parallel-item::before {content: \"\";position: absolute;border-left: 1px solid gray;box-sizing: border-box;top: 0;bottom: 0;left: 50%;z-index: -1;}#sk-container-id-4 div.sk-parallel-item {display: flex;flex-direction: column;z-index: 1;position: relative;background-color: white;}#sk-container-id-4 div.sk-parallel-item:first-child::after {align-self: flex-end;width: 50%;}#sk-container-id-4 div.sk-parallel-item:last-child::after {align-self: flex-start;width: 50%;}#sk-container-id-4 div.sk-parallel-item:only-child::after {width: 0;}#sk-container-id-4 div.sk-dashed-wrapped {border: 1px dashed gray;margin: 0 0.4em 0.5em 0.4em;box-sizing: border-box;padding-bottom: 0.4em;background-color: white;}#sk-container-id-4 div.sk-label label {font-family: monospace;font-weight: bold;display: inline-block;line-height: 1.2em;}#sk-container-id-4 div.sk-label-container {text-align: center;}#sk-container-id-4 div.sk-container {/* jupyter's `normalize.less` sets `[hidden] { display: none; }` but bootstrap.min.css set `[hidden] { display: none !important; }` so we also need the `!important` here to be able to override the default hidden behavior on the sphinx rendered scikit-learn.org. See: https://github.com/scikit-learn/scikit-learn/issues/21755 */display: inline-block !important;position: relative;}#sk-container-id-4 div.sk-text-repr-fallback {display: none;}</style><div id=\"sk-container-id-4\" class=\"sk-top-container\"><div class=\"sk-text-repr-fallback\"><pre>GridSearchCV(cv=10, estimator=LogisticRegression(),\n",
       "             param_grid=[{&#x27;penalty&#x27;: [&#x27;l1&#x27;, &#x27;l2&#x27;]}, {&#x27;C&#x27;: [1, 10, 100, 1000]}],\n",
       "             scoring=&#x27;accuracy&#x27;)</pre><b>In a Jupyter environment, please rerun this cell to show the HTML representation or trust the notebook. <br />On GitHub, the HTML representation is unable to render, please try loading this page with nbviewer.org.</b></div><div class=\"sk-container\" hidden><div class=\"sk-item sk-dashed-wrapped\"><div class=\"sk-label-container\"><div class=\"sk-label sk-toggleable\"><input class=\"sk-toggleable__control sk-hidden--visually\" id=\"sk-estimator-id-6\" type=\"checkbox\" ><label for=\"sk-estimator-id-6\" class=\"sk-toggleable__label sk-toggleable__label-arrow\">GridSearchCV</label><div class=\"sk-toggleable__content\"><pre>GridSearchCV(cv=10, estimator=LogisticRegression(),\n",
       "             param_grid=[{&#x27;penalty&#x27;: [&#x27;l1&#x27;, &#x27;l2&#x27;]}, {&#x27;C&#x27;: [1, 10, 100, 1000]}],\n",
       "             scoring=&#x27;accuracy&#x27;)</pre></div></div></div><div class=\"sk-parallel\"><div class=\"sk-parallel-item\"><div class=\"sk-item\"><div class=\"sk-label-container\"><div class=\"sk-label sk-toggleable\"><input class=\"sk-toggleable__control sk-hidden--visually\" id=\"sk-estimator-id-7\" type=\"checkbox\" ><label for=\"sk-estimator-id-7\" class=\"sk-toggleable__label sk-toggleable__label-arrow\">estimator: LogisticRegression</label><div class=\"sk-toggleable__content\"><pre>LogisticRegression()</pre></div></div></div><div class=\"sk-serial\"><div class=\"sk-item\"><div class=\"sk-estimator sk-toggleable\"><input class=\"sk-toggleable__control sk-hidden--visually\" id=\"sk-estimator-id-8\" type=\"checkbox\" ><label for=\"sk-estimator-id-8\" class=\"sk-toggleable__label sk-toggleable__label-arrow\">LogisticRegression</label><div class=\"sk-toggleable__content\"><pre>LogisticRegression()</pre></div></div></div></div></div></div></div></div></div></div>"
      ],
      "text/plain": [
       "GridSearchCV(cv=10, estimator=LogisticRegression(),\n",
       "             param_grid=[{'penalty': ['l1', 'l2']}, {'C': [1, 10, 100, 1000]}],\n",
       "             scoring='accuracy')"
      ]
     },
     "execution_count": 223,
     "metadata": {},
     "output_type": "execute_result"
    }
   ],
   "source": [
    "from sklearn.model_selection import GridSearchCV\n",
    "\n",
    "\n",
    "parameters = [{'penalty':['l1','l2']}, \n",
    "              {'C':[1, 10, 100, 1000]}]\n",
    "\n",
    "\n",
    "grid_search = GridSearchCV(estimator = logreg4,  \n",
    "                           param_grid = parameters,\n",
    "                           scoring = 'accuracy',\n",
    "                           cv = 10,\n",
    "                           verbose=0)\n",
    "\n",
    "grid_search.fit(re_X_train_miss, y_train_miss)"
   ]
  },
  {
   "cell_type": "code",
   "execution_count": 224,
   "id": "53230fdc",
   "metadata": {},
   "outputs": [
    {
     "name": "stdout",
     "output_type": "stream",
     "text": [
      "GridSearch CV best score : 0.8207\n",
      "\n",
      "\n",
      "Parameters that give the best results : \n",
      "\n",
      " {'C': 1000}\n",
      "\n",
      "\n",
      "Estimator that was chosen by the search : \n",
      "\n",
      " LogisticRegression(C=1000)\n"
     ]
    }
   ],
   "source": [
    "# examine the best model\n",
    "\n",
    "# best score achieved during the GridSearchCV\n",
    "print('GridSearch CV best score : {:.4f}\\n\\n'.format(grid_search.best_score_))\n",
    "\n",
    "# print parameters that give the best results\n",
    "print('Parameters that give the best results :','\\n\\n', (grid_search.best_params_))\n",
    "\n",
    "# print estimator that was chosen by the GridSearch\n",
    "print('\\n\\nEstimator that was chosen by the search :','\\n\\n', (grid_search.best_estimator_))"
   ]
  },
  {
   "cell_type": "code",
   "execution_count": 225,
   "id": "9b38345d",
   "metadata": {},
   "outputs": [
    {
     "name": "stdout",
     "output_type": "stream",
     "text": [
      "GridSearch CV score on test set: 0.8263\n"
     ]
    }
   ],
   "source": [
    "# calculate GridSearch CV score on test set\n",
    "\n",
    "print('GridSearch CV score on test set: {0:0.4f}'.format(grid_search.score(re_X_test_miss, y_test_miss)))"
   ]
  },
  {
   "cell_type": "markdown",
   "id": "aa9b3a19",
   "metadata": {},
   "source": [
    "### Compare Models from Before Optimation and After Optimation (Hyperparameter Tuning)"
   ]
  },
  {
   "cell_type": "code",
   "execution_count": 226,
   "id": "194a97bf",
   "metadata": {},
   "outputs": [
    {
     "name": "stdout",
     "output_type": "stream",
     "text": [
      "Undersampling Accuracy score on test set is: 0.7417\n",
      "Undersampling + GridSearch CV Accuracy score on test set: 0.8263\n"
     ]
    }
   ],
   "source": [
    "print('Undersampling Accuracy score on test set is: %.4f' % accuracy_score(y_test_miss, logreg4.predict(re_X_test_miss)))\n",
    "print('Undersampling + GridSearch CV Accuracy score on test set: {0:0.4f}'.format(grid_search.score(re_X_test_miss, y_test_miss)))"
   ]
  },
  {
   "cell_type": "markdown",
   "id": "3c141364",
   "metadata": {},
   "source": [
    "Accuracy Score after Hyperparameter Tuning increase significantly"
   ]
  },
  {
   "cell_type": "markdown",
   "id": "d8d0e8df",
   "metadata": {},
   "source": [
    "## Final Model"
   ]
  },
  {
   "cell_type": "code",
   "execution_count": null,
   "id": "35941be5",
   "metadata": {},
   "outputs": [],
   "source": [
    "#Final model: \n",
    "finallogreg = grid_search.fit(re_X_train_miss, y_train_miss)"
   ]
  },
  {
   "cell_type": "code",
   "execution_count": null,
   "id": "bbf36184",
   "metadata": {},
   "outputs": [],
   "source": [
    "#Predict Result\n",
    "y_pred_test = finallogreg.predict(X)\n",
    "y_pred_test"
   ]
  }
 ],
 "metadata": {
  "kernelspec": {
   "display_name": "Python 3",
   "language": "python",
   "name": "python3"
  },
  "language_info": {
   "codemirror_mode": {
    "name": "ipython",
    "version": 3
   },
   "file_extension": ".py",
   "mimetype": "text/x-python",
   "name": "python",
   "nbconvert_exporter": "python",
   "pygments_lexer": "ipython3",
   "version": "3.8.8"
  }
 },
 "nbformat": 4,
 "nbformat_minor": 5
}
